{
 "cells": [
  {
   "cell_type": "markdown",
   "metadata": {
    "pycharm": {
     "name": "#%% md\n"
    }
   },
   "source": [
    "# How to extract contour components\n",
    "\n",
    "https://towardsdatascience.com/simple-example-of-2d-density-plots-in-python-83b83b934f67"
   ]
  },
  {
   "cell_type": "code",
   "execution_count": 1,
   "metadata": {
    "pycharm": {
     "name": "#%%\n"
    }
   },
   "outputs": [],
   "source": [
    "import math\n",
    "\n",
    "import matplotlib\n",
    "import numpy as np\n",
    "import matplotlib.pyplot as plt\n",
    "import scipy.stats as st\n",
    "from IPython.display import display\n",
    "from sklearn.neighbors import KernelDensity\n",
    "# %matplotlib ipympl\n",
    "%matplotlib qt5\n",
    "# %matplotlib widget\n",
    "# matplotlib.use(\"nbagg\")  # interactive !\n",
    "# matplotlib.use('Qt5Agg')\n",
    "\n",
    "\n",
    "def getKernelDensityEstimation(values, x, bandwidth=0.2, kernel='gaussian'):\n",
    "    model = KernelDensity(kernel=kernel, bandwidth=bandwidth)\n",
    "    model.fit(values[:, np.newaxis])\n",
    "    log_density = model.score_samples(x[:, np.newaxis])\n",
    "    return np.exp(log_density)\n",
    "\n",
    "\n",
    "def getExtremePoints(data, typeOfInflexion=None, maxPoints=None):\n",
    "    \"\"\"\n",
    "    This method returns the indeces where there is a change in the trend of the input series.\n",
    "    typeOfInflexion = None returns all inflexion points, max only maximum values and min\n",
    "    only min,\n",
    "    \"\"\"\n",
    "    a = np.diff(data)\n",
    "    asign = np.sign(a)\n",
    "    signchange = ((np.roll(asign, 1) - asign) != 0).astype(int)\n",
    "    idx = np.where(signchange == 1)[0]\n",
    "\n",
    "    if typeOfInflexion == 'max' and data[idx[0]] < data[idx[1]]:\n",
    "        idx = idx[1:][::2]\n",
    "\n",
    "    elif typeOfInflexion == 'min' and data[idx[0]] > data[idx[1]]:\n",
    "        idx = idx[1:][::2]\n",
    "    elif typeOfInflexion is not None:\n",
    "        idx = idx[::2]\n",
    "\n",
    "    # sort ids by min value\n",
    "    if 0 in idx:\n",
    "        idx = np.delete(idx, 0)\n",
    "    if (len(data) - 1) in idx:\n",
    "        idx = np.delete(idx, len(data) - 1)\n",
    "    idx = idx[np.argsort(data[idx])]\n",
    "    # If we have maxpoints we want to make sure the timeseries has a cutpoint\n",
    "    # in each segment, not all on a small interval\n",
    "    if maxPoints is not None:\n",
    "        idx = idx[:maxPoints]\n",
    "        if len(idx) < maxPoints:\n",
    "            return (np.arange(maxPoints) + 1) * (len(data) // (maxPoints + 1))\n",
    "\n",
    "    return idx\n",
    "\n",
    "# plt.ion()\n",
    "# plt.show()"
   ]
  },
  {
   "cell_type": "code",
   "execution_count": 2,
   "metadata": {
    "pycharm": {
     "name": "#%%\n"
    }
   },
   "outputs": [
    {
     "name": "stdout",
     "output_type": "stream",
     "text": [
      "/home/lsc/pyprojs/tmi_mvts_transformer/data_test\r\n"
     ]
    }
   ],
   "source": [
    "!pwd"
   ]
  },
  {
   "cell_type": "code",
   "execution_count": 3,
   "metadata": {
    "pycharm": {
     "name": "#%%\n"
    }
   },
   "outputs": [],
   "source": [
    "# i = 767\n",
    "# i = 877\n",
    "# i = 987 # abnormal?\n",
    "# i = 452\n",
    "# i = 356 # good shape\n",
    "# i = 333 # good\n",
    "# i = 803 # good not enough\n",
    "i = 111 # looks good, using this\n",
    "# i = 85\n",
    "# i = 86 # strange\n",
    "# i = 91 # edge density\n",
    "# i = 103\n",
    "trj = np.load(f'../data/SHL_msk3_features/clean_trj_segs.npy', allow_pickle=True)[i]\n",
    "fs = np.load(f'../data/SHL_msk3_features/clean_multi_feature_segs.npy', allow_pickle=True)[i]\n",
    "fs_msk = np.load(f'../data/SHL_msk3_features/fs_seg_masks.npy', allow_pickle=True)[i]\n",
    "\n",
    "d = fs[2]\n",
    "v = fs[3]\n",
    "a = fs[4]\n",
    "jk = fs[5]\n",
    "hc = fs[7]\n",
    "hcr = fs[8]\n",
    "\n",
    "x = trj[0]\n",
    "y = trj[1]\n",
    "\n",
    "\n",
    "minx, miny = min(x), min(y)\n",
    "\n",
    "n = len(x)\n",
    "\n"
   ]
  },
  {
   "cell_type": "code",
   "execution_count": 4,
   "outputs": [],
   "source": [
    "# plt.figure(figsize=(15,15))\n",
    "plt.figure()\n",
    "# plt.scatter(x, y)\n",
    "plt.plot(x, y, color='red', marker='o', markerfacecolor='white',\n",
    "         markeredgecolor='#1f77b4', markeredgewidth=1.5)\n",
    "plt.xlabel(\"Latitude\")\n",
    "plt.ylabel(\"Longitude\")\n",
    "plt.ticklabel_format(style='plain', axis='x', useOffset=False)\n",
    "plt.show()"
   ],
   "metadata": {
    "collapsed": false,
    "pycharm": {
     "name": "#%%\n"
    }
   }
  },
  {
   "cell_type": "code",
   "execution_count": 5,
   "metadata": {
    "pycharm": {
     "name": "#%%\n"
    }
   },
   "outputs": [],
   "source": [
    "# plt.figure()\n",
    "# plt.plot(v)\n",
    "# vep = getExtremePoints(v)\n",
    "# plt.scatter(vep, [v[i] for i in vep])\n",
    "# plt.show()"
   ]
  },
  {
   "cell_type": "code",
   "execution_count": 6,
   "metadata": {
    "pycharm": {
     "name": "#%%\n"
    }
   },
   "outputs": [],
   "source": [
    "# plt.figure()\n",
    "# plt.plot(a)"
   ]
  },
  {
   "cell_type": "code",
   "execution_count": 7,
   "metadata": {
    "pycharm": {
     "name": "#%%\n"
    }
   },
   "outputs": [],
   "source": [
    "# plt.figure()\n",
    "# plt.plot(jk)"
   ]
  },
  {
   "cell_type": "code",
   "execution_count": 8,
   "metadata": {
    "pycharm": {
     "name": "#%%\n"
    }
   },
   "outputs": [],
   "source": [
    "# plt.figure()\n",
    "# plt.plot(hc)"
   ]
  },
  {
   "cell_type": "code",
   "execution_count": 9,
   "metadata": {
    "pycharm": {
     "name": "#%%\n"
    }
   },
   "outputs": [],
   "source": [
    "# plt.figure()\n",
    "# plt.plot(hcr)"
   ]
  },
  {
   "cell_type": "markdown",
   "metadata": {
    "pycharm": {
     "name": "#%% md\n"
    }
   },
   "source": [
    "## For the KDE representation, choose the boundaries:"
   ]
  },
  {
   "cell_type": "code",
   "execution_count": 10,
   "metadata": {
    "pycharm": {
     "name": "#%%\n"
    }
   },
   "outputs": [
    {
     "name": "stdout",
     "output_type": "stream",
     "text": [
      "51.17698147112625 51.1784096848067 -0.43061690609143183 -0.42956194899425026\n"
     ]
    }
   ],
   "source": [
    "deltaX = (max(x) - min(x)) / 10\n",
    "deltaY = (max(y) - min(y)) / 10\n",
    "\n",
    "xmin = min(x) - deltaX\n",
    "xmax = max(x) + deltaX\n",
    "\n",
    "ymin = min(y) - deltaY\n",
    "ymax = max(y) + deltaY\n",
    "\n",
    "print(xmin, xmax, ymin, ymax)"
   ]
  },
  {
   "cell_type": "code",
   "execution_count": 11,
   "metadata": {
    "pycharm": {
     "name": "#%%\n"
    }
   },
   "outputs": [],
   "source": [
    "grid_size = 50\n",
    "# Create meshgrid\n",
    "xx, yy = np.mgrid[xmin:xmax:complex(0, grid_size), ymin:ymax:complex(0, grid_size)]"
   ]
  },
  {
   "cell_type": "markdown",
   "metadata": {
    "pycharm": {
     "name": "#%% md\n"
    }
   },
   "source": [
    "## Fit a gaussian kernel"
   ]
  },
  {
   "cell_type": "code",
   "execution_count": 12,
   "metadata": {
    "pycharm": {
     "name": "#%%\n"
    }
   },
   "outputs": [],
   "source": [
    "from scipy.stats import gaussian_kde\n",
    "class GaussianKde(gaussian_kde):\n",
    "    \"\"\"\n",
    "    https://stackoverflow.com/questions/63812970/scipy-gaussian-kde-matrix-is-not-positive-definite\n",
    "    Drop-in replacement for gaussian_kde that adds the class attribute EPSILON\n",
    "    to the covmat eigenvalues, to prevent exceptions due to numerical error.\n",
    "    \"\"\"\n",
    "\n",
    "    EPSILON = 1e-10  # adjust this at will\n",
    "\n",
    "    def _compute_covariance(self):\n",
    "        \"\"\"Computes the covariance matrix for each Gaussian kernel using\n",
    "        covariance_factor().\n",
    "        \"\"\"\n",
    "        self.factor = self.covariance_factor()\n",
    "        # Cache covariance and inverse covariance of the data\n",
    "        if not hasattr(self, '_data_inv_cov'):\n",
    "            self._data_covariance = np.atleast_2d(np.cov(self.dataset, rowvar=1,\n",
    "                                                         bias=False,\n",
    "                                                         aweights=self.weights))\n",
    "            # we're going the easy way here\n",
    "            self._data_covariance += self.EPSILON * np.eye(\n",
    "                len(self._data_covariance))\n",
    "            self._data_inv_cov = np.linalg.inv(self._data_covariance)\n",
    "\n",
    "        self.covariance = self._data_covariance * self.factor ** 2\n",
    "        self.inv_cov = self._data_inv_cov / self.factor ** 2\n",
    "        L = np.linalg.cholesky(self.covariance * 2 * np.pi)\n",
    "        self._norm_factor = 2 * np.log(np.diag(L)).sum()  # needed for scipy 1.5.2\n",
    "        self.log_det = 2 * np.log(np.diag(L)).sum()  # changed var name on 1.6.2\n",
    "\n",
    "\n",
    "\n"
   ]
  },
  {
   "cell_type": "code",
   "execution_count": 13,
   "outputs": [
    {
     "data": {
      "text/plain": "(2, 75)"
     },
     "metadata": {},
     "output_type": "display_data"
    }
   ],
   "source": [
    "positions = np.vstack([xx.ravel(), yy.ravel()])\n",
    "values = np.vstack([x, y])\n",
    "display(values.shape)\n",
    "kernel = gaussian_kde(values, bw_method='silverman')\n",
    "# kernel = GaussianKde(values)\n",
    "\n",
    "kp = kernel(positions).T\n",
    "f = np.reshape(kernel(positions).T, xx.shape)\n",
    "kvt = kernel(values).T\n"
   ],
   "metadata": {
    "collapsed": false,
    "pycharm": {
     "name": "#%%\n"
    }
   }
  },
  {
   "cell_type": "code",
   "execution_count": 14,
   "outputs": [],
   "source": [
    "from sklearn.neighbors import KernelDensity\n",
    "kde = KernelDensity(kernel='gaussian', bandwidth=0.5).fit(values.T)\n",
    "log_density = kde.score_samples(values.T)\n",
    "density = np.exp(log_density)"
   ],
   "metadata": {
    "collapsed": false,
    "pycharm": {
     "name": "#%%\n"
    }
   }
  },
  {
   "cell_type": "code",
   "execution_count": 15,
   "metadata": {
    "pycharm": {
     "name": "#%%\n"
    }
   },
   "outputs": [],
   "source": [
    "fig = plt.figure()\n",
    "ax = fig.gca()\n",
    "\n",
    "cfset = ax.contourf(xx, yy, f, cmap='coolwarm')\n",
    "ax.imshow(np.rot90(f), cmap='coolwarm', extent=[xmin, xmax, ymin, ymax])\n",
    "cset = ax.contour(xx, yy, f, colors='k')\n",
    "ax.clabel(cset, inline=1, fontsize=10)\n",
    "ax.set_xlabel('Latitude')\n",
    "ax.set_ylabel('Longitude')\n",
    "ax.set_xlim(xmin, xmax)\n",
    "ax.set_ylim(ymin, ymax)\n",
    "plt.show()"
   ]
  },
  {
   "cell_type": "markdown",
   "metadata": {
    "pycharm": {
     "name": "#%% md\n"
    }
   },
   "source": [
    "## Render KDE in 3d"
   ]
  },
  {
   "cell_type": "code",
   "execution_count": 16,
   "metadata": {
    "pycharm": {
     "name": "#%%\n"
    }
   },
   "outputs": [],
   "source": [
    "from mpl_toolkits.mplot3d import axes3d\n",
    "fig = plt.figure()\n",
    "ax = plt.axes(projection='3d')\n",
    "surf = ax.plot_surface(xx, yy, f, rstride=1, cstride=1, cmap='coolwarm', edgecolor='none')\n",
    "ax.set_xlabel('x')\n",
    "ax.set_ylabel('y')\n",
    "ax.set_zlabel('PDF')\n",
    "ax.set_title('Surface plot of Gaussian 2D KDE')\n",
    "fig.colorbar(surf, shrink=0.5, aspect=5)  # add color bar indicating the PDF\n",
    "ax.view_init(60, 35)\n",
    "plt.show()"
   ]
  },
  {
   "cell_type": "code",
   "execution_count": 17,
   "metadata": {
    "pycharm": {
     "name": "#%%\n"
    }
   },
   "outputs": [],
   "source": [
    "# fig = plt.figure()\n",
    "# ax = plt.axes(projection='3d')\n",
    "# w = ax.plot_wireframe(xx, yy, f)\n",
    "# ax.set_xlabel('x')\n",
    "# ax.set_ylabel('y')\n",
    "# ax.set_zlabel('PDF')\n",
    "# ax.set_title('Wireframe plot of Gaussian 2D KDE');\n",
    "# plt.show()"
   ]
  },
  {
   "cell_type": "markdown",
   "metadata": {
    "pycharm": {
     "name": "#%% md\n"
    }
   },
   "source": [
    "## How to extract plot lines?"
   ]
  },
  {
   "cell_type": "code",
   "execution_count": 18,
   "metadata": {
    "pycharm": {
     "name": "#%%\n"
    }
   },
   "outputs": [],
   "source": [
    "# plt.figure()\n",
    "#\n",
    "# for j in range(len(cset.allsegs)):\n",
    "#     for ii, seg in enumerate(cset.allsegs[j]):\n",
    "#         plt.plot(seg[:, 0], seg[:, 1], '.-', label=f'Cluster{j}, level{ii}')\n",
    "#\n",
    "# plt.legend()\n"
   ]
  },
  {
   "cell_type": "markdown",
   "metadata": {
    "pycharm": {
     "name": "#%% md\n"
    }
   },
   "source": [
    "## Render data with histogram 2d"
   ]
  },
  {
   "cell_type": "markdown",
   "metadata": {
    "pycharm": {
     "name": "#%% md\n"
    }
   },
   "source": [
    "Use histogram 2d to get the areas with the highest surface"
   ]
  },
  {
   "cell_type": "code",
   "execution_count": 35,
   "metadata": {
    "pycharm": {
     "name": "#%%\n"
    }
   },
   "outputs": [],
   "source": [
    "plt.figure()\n",
    "h = plt.hist2d(x, y, bins=64)\n",
    "plt.colorbar(h[3])\n",
    "plt.xlabel('x')\n",
    "plt.ylabel('y')\n",
    "plt.title('Frequency histogram')\n",
    "plt.show()"
   ]
  },
  {
   "cell_type": "code",
   "execution_count": 20,
   "outputs": [],
   "source": [
    "plt.figure()\n",
    "plt.imshow(f)\n",
    "plt.show()"
   ],
   "metadata": {
    "collapsed": false,
    "pycharm": {
     "name": "#%%\n"
    }
   }
  },
  {
   "cell_type": "code",
   "execution_count": 21,
   "outputs": [
    {
     "data": {
      "text/plain": "array([[19, 43],\n       [37, 14],\n       [36, 16]])"
     },
     "execution_count": 21,
     "metadata": {},
     "output_type": "execute_result"
    }
   ],
   "source": [
    "from skimage.feature import peak_local_max\n",
    "\n",
    "peaks = peak_local_max(f, min_distance=1)\n",
    "peaks\n"
   ],
   "metadata": {
    "collapsed": false,
    "pycharm": {
     "name": "#%%\n"
    }
   }
  },
  {
   "cell_type": "markdown",
   "source": [
    "## using MinMaxScaler!!"
   ],
   "metadata": {
    "collapsed": false,
    "pycharm": {
     "name": "#%% md\n"
    }
   }
  },
  {
   "cell_type": "code",
   "execution_count": 22,
   "outputs": [],
   "source": [
    "from sklearn.preprocessing import MinMaxScaler\n",
    "# transform trj to same scale as the grid of kde\n",
    "scaler = MinMaxScaler(feature_range=(-1, 1))\n",
    "x_s = scaler.fit_transform(x.reshape(-1, 1)).squeeze()*grid_size\n",
    "y_s = scaler.fit_transform(y.reshape(-1, 1)).squeeze()*grid_size\n",
    "plt.figure()\n",
    "plt.plot(x_s, y_s, color='red', marker='o', markerfacecolor='white',\n",
    "         markeredgecolor='#1f77b4', markeredgewidth=1.5)\n",
    "plt.xlabel(\"Latitude\")\n",
    "plt.ylabel(\"Longitude\")\n",
    "plt.show()"
   ],
   "metadata": {
    "collapsed": false,
    "pycharm": {
     "name": "#%%\n"
    }
   }
  },
  {
   "cell_type": "code",
   "execution_count": 23,
   "outputs": [
    {
     "data": {
      "text/plain": "[47, 51, 51]"
     },
     "execution_count": 23,
     "metadata": {},
     "output_type": "execute_result"
    }
   ],
   "source": [
    "import numpy\n",
    "import math\n",
    "from scipy.spatial import distance\n",
    "trj_s = np.array([x_s, y_s]).T\n",
    "peak_point_idx = []\n",
    "for pk in peaks:\n",
    "    min_dist = math.inf\n",
    "    min_dist_point = -1 # idx\n",
    "    for i, point in enumerate(trj_s):\n",
    "        dist=distance.euclidean(point, pk)\n",
    "        if dist <min_dist:\n",
    "            min_dist = dist\n",
    "            min_dist_point = i\n",
    "    peak_point_idx.append(min_dist_point)\n",
    "peak_point_idx\n",
    "\n",
    "\n"
   ],
   "metadata": {
    "collapsed": false,
    "pycharm": {
     "name": "#%%\n"
    }
   }
  },
  {
   "cell_type": "code",
   "execution_count": 24,
   "outputs": [],
   "source": [
    "ep_kvt = getExtremePoints(kvt)\n"
   ],
   "metadata": {
    "collapsed": false,
    "pycharm": {
     "name": "#%%\n"
    }
   }
  },
  {
   "cell_type": "code",
   "execution_count": 25,
   "outputs": [],
   "source": [
    "plt.figure()\n",
    "# plt.scatter(x, y)\n",
    "plt.plot(x_s, y_s, color='red', marker='o', markerfacecolor='white',\n",
    "         markeredgecolor='#1f77b4', markeredgewidth=1.5)\n",
    "plt.xlabel(\"Latitude\")\n",
    "plt.ylabel(\"Longitude\")\n",
    "plt.ticklabel_format(style='plain', axis='x', useOffset=False)\n",
    "plt.scatter(x_s[peak_point_idx], y_s[peak_point_idx], c='red', zorder=100)\n",
    "plt.scatter(x_s[ep_kvt], y_s[ep_kvt], c='blue', zorder=200)\n",
    "plt.show()"
   ],
   "metadata": {
    "collapsed": false,
    "pycharm": {
     "name": "#%%\n"
    }
   }
  },
  {
   "cell_type": "markdown",
   "source": [
    "## I finally use KDEpy\n",
    "data should be scaled !!!!"
   ],
   "metadata": {
    "collapsed": false,
    "pycharm": {
     "name": "#%% md\n"
    }
   }
  },
  {
   "cell_type": "code",
   "execution_count": 26,
   "outputs": [
    {
     "data": {
      "text/plain": "((2500, 2), (2500,))"
     },
     "execution_count": 26,
     "metadata": {},
     "output_type": "execute_result"
    }
   ],
   "source": [
    "from KDEpy import FFTKDE\n",
    "data = np.array([x_s, y_s]).T  # use scaled data!!!\n",
    "grid_points = grid_size # Grid points in each dimension\n",
    "N = 8  # Number of contours\n",
    "xy, z_kde = FFTKDE().fit(data)((grid_points, grid_points))\n",
    "xy.shape, z_kde.shape\n"
   ],
   "metadata": {
    "collapsed": false,
    "pycharm": {
     "name": "#%%\n"
    }
   }
  },
  {
   "cell_type": "code",
   "execution_count": 27,
   "outputs": [],
   "source": [
    "xff, yff = np.unique(xy[:, 0]), np.unique(xy[:, 1])\n",
    "zffr = z_kde.reshape(grid_points, grid_points).T\n",
    "plt.figure()\n",
    "plt.contour(xff, yff, zffr, N, linewidths=0.8, colors=\"k\")\n",
    "plt.contourf(xff, yff, zffr, N, cmap=\"PuBu\")\n",
    "plt.plot(data[:, 0], data[:, 1], \"ok\", ms=2)\n",
    "# plt.yticks([])\n",
    "# plt.xticks([])\n",
    "plt.show()"
   ],
   "metadata": {
    "collapsed": false,
    "pycharm": {
     "name": "#%%\n"
    }
   }
  },
  {
   "cell_type": "code",
   "execution_count": 28,
   "outputs": [],
   "source": [
    "fig = plt.figure()\n",
    "ax = plt.axes(projection='3d')\n",
    "# surf = ax.plot_surface(xff, yff, zffr, rstride=1, cstride=1, cmap='coolwarm', edgecolor='none')\n",
    "surf = ax.plot_surface(xx, yy, zffr, rstride=1, cstride=1, cmap='coolwarm', edgecolor='none')\n",
    "ax.set_xlabel('x')\n",
    "ax.set_ylabel('y')\n",
    "ax.set_zlabel('PDF')\n",
    "ax.set_title(' 2D pyKDE')\n",
    "fig.colorbar(surf, shrink=0.5, aspect=5)  # add color bar indicating the PDF\n",
    "ax.view_init(60, 35)\n",
    "# plt.show()"
   ],
   "metadata": {
    "collapsed": false,
    "pycharm": {
     "name": "#%%\n"
    }
   }
  },
  {
   "cell_type": "code",
   "execution_count": 29,
   "outputs": [],
   "source": [
    "pk_zffr = peak_local_max(zffr, threshold_rel=.3, min_distance=2) # coordinate!!  note the ration .3 and min_dsitance 2\n",
    "\n",
    "plt.figure()\n",
    "plt.imshow(zffr)\n",
    "plt.plot(pk_zffr[:, 1], pk_zffr[:, 0], 'r.')\n",
    "plt.show()"
   ],
   "metadata": {
    "collapsed": false,
    "pycharm": {
     "name": "#%%\n"
    }
   }
  },
  {
   "cell_type": "code",
   "execution_count": 30,
   "outputs": [
    {
     "data": {
      "text/plain": "array([47, 51])"
     },
     "execution_count": 30,
     "metadata": {},
     "output_type": "execute_result"
    }
   ],
   "source": [
    "from scipy.spatial import distance\n",
    "trj_s = np.array([x_s, y_s]).T\n",
    "peak_point_idx = []\n",
    "for pk in peaks:\n",
    "    min_dist = math.inf\n",
    "    min_dist_point = -1 # idx\n",
    "    for i, point in enumerate(trj_s):\n",
    "        dist=distance.euclidean(point, pk)\n",
    "        if dist <min_dist:\n",
    "            min_dist = dist\n",
    "            min_dist_point = i\n",
    "    peak_point_idx.append(min_dist_point)\n",
    "peak_point_idx\n",
    "np.unique(peak_point_idx)"
   ],
   "metadata": {
    "collapsed": false,
    "pycharm": {
     "name": "#%%\n"
    }
   }
  },
  {
   "cell_type": "code",
   "execution_count": 31,
   "outputs": [],
   "source": [
    "plt.figure()\n",
    "# plt.scatter(x, y)\n",
    "plt.plot(x_s, y_s, color='red', marker='o', markerfacecolor='white',\n",
    "         markeredgecolor='#1f77b4', markeredgewidth=1.5)\n",
    "plt.xlabel(\"Latitude\")\n",
    "plt.ylabel(\"Longitude\")\n",
    "plt.ticklabel_format(style='plain', axis='x', useOffset=False)\n",
    "plt.scatter(x_s[peak_point_idx], y_s[peak_point_idx], c='red', zorder=100)\n",
    "# plt.scatter(x_s[ep_kvt], y_s[ep_kvt], c='blue', zorder=200)\n",
    "plt.show()"
   ],
   "metadata": {
    "collapsed": false,
    "pycharm": {
     "name": "#%%\n"
    }
   }
  },
  {
   "cell_type": "code",
   "execution_count": 31,
   "outputs": [],
   "source": [],
   "metadata": {
    "collapsed": false,
    "pycharm": {
     "name": "#%%\n"
    }
   }
  }
 ],
 "metadata": {
  "kernelspec": {
   "display_name": "Python 3 (ipykernel)",
   "language": "python",
   "name": "python3"
  },
  "language_info": {
   "codemirror_mode": {
    "name": "ipython",
    "version": 3
   },
   "file_extension": ".py",
   "mimetype": "text/x-python",
   "name": "python",
   "nbconvert_exporter": "python",
   "pygments_lexer": "ipython3",
   "version": "3.8.12"
  },
  "varInspector": {
   "cols": {
    "lenName": 16,
    "lenType": 16,
    "lenVar": 40
   },
   "kernels_config": {
    "python": {
     "delete_cmd_postfix": "",
     "delete_cmd_prefix": "del ",
     "library": "var_list.py",
     "varRefreshCmd": "print(var_dic_list())"
    },
    "r": {
     "delete_cmd_postfix": ") ",
     "delete_cmd_prefix": "rm(",
     "library": "var_list.r",
     "varRefreshCmd": "cat(var_dic_list()) "
    }
   },
   "types_to_exclude": [
    "module",
    "function",
    "builtin_function_or_method",
    "instance",
    "_Feature"
   ],
   "window_display": false
  }
 },
 "nbformat": 4,
 "nbformat_minor": 2
}