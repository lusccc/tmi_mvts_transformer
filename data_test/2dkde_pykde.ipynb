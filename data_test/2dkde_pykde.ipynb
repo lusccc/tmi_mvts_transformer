{
 "cells": [
  {
   "cell_type": "markdown",
   "source": [],
   "metadata": {
    "collapsed": false,
    "pycharm": {
     "name": "#%% md\n"
    }
   }
  },
  {
   "cell_type": "code",
   "execution_count": 1,
   "metadata": {
    "collapsed": true,
    "pycharm": {
     "name": "#%%\n"
    }
   },
   "outputs": [],
   "source": [
    "import math\n",
    "\n",
    "import matplotlib\n",
    "import numpy as np\n",
    "import matplotlib.pyplot as plt\n",
    "import scipy.stats as st\n",
    "from IPython.display import display\n",
    "from sklearn.neighbors import KernelDensity\n",
    "# %matplotlib ipympl\n",
    "%matplotlib qt5\n",
    "# %matplotlib widget\n",
    "# matplotlib.use(\"nbagg\")  # interactive !\n",
    "# matplotlib.use('Qt5Agg')"
   ]
  },
  {
   "cell_type": "code",
   "execution_count": 2,
   "outputs": [],
   "source": [
    "def getExtremePoints(data, typeOfInflexion=None, maxPoints=None):\n",
    "    \"\"\"\n",
    "    This method returns the indeces where there is a change in the trend of the input series.\n",
    "    typeOfInflexion = None returns all inflexion points, max only maximum values and min\n",
    "    only min,\n",
    "    \"\"\"\n",
    "    a = np.diff(data)\n",
    "    asign = np.sign(a)\n",
    "    signchange = ((np.roll(asign, 1) - asign) != 0).astype(int)\n",
    "    idx = np.where(signchange == 1)[0]\n",
    "\n",
    "    if typeOfInflexion == 'max' and data[idx[0]] < data[idx[1]]:\n",
    "        idx = idx[1:][::2]\n",
    "\n",
    "    elif typeOfInflexion == 'min' and data[idx[0]] > data[idx[1]]:\n",
    "        idx = idx[1:][::2]\n",
    "    elif typeOfInflexion is not None:\n",
    "        idx = idx[::2]\n",
    "\n",
    "    # sort ids by min value\n",
    "    if 0 in idx:\n",
    "        idx = np.delete(idx, 0)\n",
    "    if (len(data) - 1) in idx:\n",
    "        idx = np.delete(idx, len(data) - 1)\n",
    "    idx = idx[np.argsort(data[idx])]\n",
    "    # If we have maxpoints we want to make sure the timeseries has a cutpoint\n",
    "    # in each segment, not all on a small interval\n",
    "    if maxPoints is not None:\n",
    "        idx = idx[:maxPoints]\n",
    "        if len(idx) < maxPoints:\n",
    "            return (np.arange(maxPoints) + 1) * (len(data) // (maxPoints + 1))\n",
    "\n",
    "    return idx\n",
    "\n",
    "\n",
    "from scipy import ndimage as ndi\n",
    "\n",
    "\n",
    "def local_maxima_3D(data, order=1):\n",
    "    \"\"\"Detects local maxima in a 3D array\n",
    "\n",
    "    Parameters\n",
    "    ---------\n",
    "    data : 3d ndarray\n",
    "    order : int\n",
    "        How many points on each side to use for the comparison\n",
    "\n",
    "    Returns\n",
    "    -------\n",
    "    coords : ndarray\n",
    "        coordinates of the local maxima\n",
    "    values : ndarray\n",
    "        values of the local maxima\n",
    "    \"\"\"\n",
    "    size = 1 + 2 * order\n",
    "    footprint = np.ones((size, size, size))\n",
    "    footprint[order, order, order] = 0\n",
    "\n",
    "    filtered = ndi.maximum_filter(data, footprint=footprint)\n",
    "    mask_local_maxima = data > filtered\n",
    "    coords = np.asarray(np.where(mask_local_maxima)).T\n",
    "    values = data[mask_local_maxima]\n",
    "\n",
    "    return coords, values"
   ],
   "metadata": {
    "collapsed": false,
    "pycharm": {
     "name": "#%%\n"
    }
   }
  },
  {
   "cell_type": "code",
   "execution_count": 3,
   "outputs": [],
   "source": [
    "# i = 767\n",
    "# i = 877\n",
    "# i = 987 # abnormal?\n",
    "# i = 452\n",
    "# i = 356 # good shape\n",
    "# i = 333 # good\n",
    "# i = 803 # good not enough\n",
    "# i = 111 # looks good, using this\n",
    "# i = 85\n",
    "# i = 86 # strange\n",
    "# i = 91  # edge density\n",
    "# i = 106  # should use this\n",
    "# i = 95 # classic\n",
    "# i = 99 # classic\n",
    "# i = 206\n",
    "# i = 213\n",
    "# i = 224\n",
    "# i = 244\n",
    "# i = 403\n",
    "# i = 405\n",
    "# i = 408\n",
    "i = 413\n",
    "trj = np.load(f'../data/SHL_msk3_features/clean_trj_segs.npy', allow_pickle=True)[i]\n",
    "fs = np.load(f'../data/SHL_msk3_features/clean_multi_feature_segs.npy', allow_pickle=True)[i]\n",
    "fs_msk = np.load(f'../data/SHL_msk3_features/fs_seg_masks.npy', allow_pickle=True)[i]\n",
    "\n",
    "d = fs[2]\n",
    "v = fs[3]\n",
    "a = fs[4]\n",
    "jk = fs[5]\n",
    "hc = fs[7]\n",
    "hcr = fs[8]\n",
    "\n",
    "x = trj[0]\n",
    "y = trj[1]\n",
    "x_ori = np.copy(x)\n",
    "y_ori = np.copy(y)\n",
    "d_ = np.vstack([x, y]).T\n",
    "\n",
    "minx, miny = min(x), min(y)\n",
    "\n",
    "n = len(x)\n",
    "\n"
   ],
   "metadata": {
    "collapsed": false,
    "pycharm": {
     "name": "#%%\n"
    }
   }
  },
  {
   "cell_type": "code",
   "execution_count": 4,
   "outputs": [],
   "source": [
    "plt.figure()\n",
    "plt.plot(d)\n",
    "plt.plot(v)\n",
    "plt.plot(a)\n",
    "plt.plot(jk)\n",
    "plt.plot(hc)\n",
    "plt.show()"
   ],
   "metadata": {
    "collapsed": false,
    "pycharm": {
     "name": "#%%\n"
    }
   }
  },
  {
   "cell_type": "code",
   "execution_count": 5,
   "outputs": [],
   "source": [
    "# plt.figure(figsize=(15,15))\n",
    "plt.figure()\n",
    "# plt.title('trj')\n",
    "# plt.scatter(x, y)\n",
    "plt.plot(x, y, color='red', marker='o', markerfacecolor='white',\n",
    "         markeredgecolor='#1f77b4', markeredgewidth=1.5)\n",
    "plt.xlabel(\"Latitude\", fontweight='bold')\n",
    "plt.ylabel(\"Longitude\", fontweight='bold')\n",
    "plt.ticklabel_format(style='plain', axis='x', useOffset=False)\n",
    "plt.xticks(rotation=30)\n",
    "plt.show()"
   ],
   "metadata": {
    "collapsed": false,
    "pycharm": {
     "name": "#%%\n"
    }
   }
  },
  {
   "cell_type": "markdown",
   "source": [
    "#### scale!"
   ],
   "metadata": {
    "collapsed": false,
    "pycharm": {
     "name": "#%% md\n"
    }
   }
  },
  {
   "cell_type": "code",
   "execution_count": 6,
   "outputs": [],
   "source": [
    "from sklearn.preprocessing import MinMaxScaler\n",
    "\n",
    "target_scale = 100  # 0~100\n",
    "grid_size = 100\n",
    "\n",
    "# transform trj to same scale as the grid of kde\n",
    "scaler = MinMaxScaler(feature_range=(0, 1))\n",
    "x_s = scaler.fit_transform(x.reshape(-1, 1)).squeeze() * target_scale\n",
    "y_s = scaler.fit_transform(y.reshape(-1, 1)).squeeze() * target_scale\n",
    "plt.figure()\n",
    "plt.title('trj scaled')\n",
    "\n",
    "plt.plot(x_s, y_s, color='red', marker='o', markerfacecolor='white',\n",
    "         markeredgecolor='#1f77b4', markeredgewidth=1.5)\n",
    "plt.xlabel(\"Latitude\")\n",
    "plt.ylabel(\"Longitude\")\n",
    "plt.show()"
   ],
   "metadata": {
    "collapsed": false,
    "pycharm": {
     "name": "#%%\n"
    }
   }
  },
  {
   "cell_type": "markdown",
   "source": [
    "#### Create meshgrid"
   ],
   "metadata": {
    "collapsed": false,
    "pycharm": {
     "name": "#%% md\n"
    }
   }
  },
  {
   "cell_type": "code",
   "execution_count": 7,
   "outputs": [],
   "source": [
    "deltaX = (max(x) - min(x)) / 10\n",
    "deltaY = (max(y) - min(y)) / 10\n",
    "\n",
    "xmin = min(x) - deltaX\n",
    "xmax = max(x) + deltaX\n",
    "\n",
    "ymin = min(y) - deltaY\n",
    "ymax = max(y) + deltaY\n",
    "\n",
    "# Create meshgrid\n",
    "x_mg, y_mg = np.mgrid[xmin:xmax:complex(0, grid_size), ymin:ymax:complex(0, grid_size)]\n"
   ],
   "metadata": {
    "collapsed": false,
    "pycharm": {
     "name": "#%%\n"
    }
   }
  },
  {
   "cell_type": "markdown",
   "source": [
    "#### Boundary correction using mirroring, then do kde\n",
    "https://kdepy.readthedocs.io/en/latest/examples.html#boundary-correction-using-mirroring"
   ],
   "metadata": {
    "collapsed": false,
    "pycharm": {
     "name": "#%% md\n"
    }
   }
  },
  {
   "cell_type": "code",
   "execution_count": 8,
   "outputs": [
    {
     "data": {
      "text/plain": "(384, 2)"
     },
     "execution_count": 8,
     "metadata": {},
     "output_type": "execute_result"
    }
   ],
   "source": [
    "data = np.vstack([x_s, y_s]).T  # use scaled data!!!.\n",
    "\n",
    "# n_bdry_ext = round(n * .1)\n",
    "# begin_ext = data[1:n_bdry_ext][::-1] # note: remove 1st repeat element\n",
    "# end_ext = data[-n_bdry_ext:-1][::-1] #\n",
    "# data_ext = np.vstack([begin_ext, data, end_ext])\n",
    "\n",
    "# x_s_mir = np.concatenate([(2 * x_s.min() - x_s)[:-1], x_s, (2 * x_s.max() - x_s)[1:]])\n",
    "# y_s_mir = np.concatenate([(2 * y_s.min() - y_s)[:-1], y_s, (2 * y_s.max() - y_s)[1:]])\n",
    "x_s_mir = np.concatenate([(2 * x_s.min() - x_s), x_s, (2 * x_s.max() - x_s)])\n",
    "y_s_mir = np.concatenate([(2 * y_s.min() - y_s), y_s, (2 * y_s.max() - y_s)])\n",
    "data_mir = np.vstack([x_s_mir, y_s_mir]).T  # use scaled data!!!.\n",
    "data_mir.shape  # n points and each point dim"
   ],
   "metadata": {
    "collapsed": false,
    "pycharm": {
     "name": "#%%\n"
    }
   }
  },
  {
   "cell_type": "markdown",
   "source": [
    "mirrored, hence the grid_size to do kde is 3 times"
   ],
   "metadata": {
    "collapsed": false,
    "pycharm": {
     "name": "#%% md\n"
    }
   }
  },
  {
   "cell_type": "code",
   "execution_count": 9,
   "outputs": [],
   "source": [
    "grid_size_mir = grid_size * 3"
   ],
   "metadata": {
    "collapsed": false,
    "pycharm": {
     "name": "#%%\n"
    }
   }
  },
  {
   "cell_type": "code",
   "execution_count": 10,
   "outputs": [],
   "source": [
    "plt.figure()\n",
    "plt.title('trj scaled mirrored')\n",
    "\n",
    "plt.plot(x_s_mir, y_s_mir, color='red', marker='o', markerfacecolor='white',\n",
    "         markeredgecolor='#1f77b4', markeredgewidth=1.5)\n",
    "plt.xlabel(\"Latitude\")\n",
    "plt.ylabel(\"Longitude\")\n",
    "plt.show()"
   ],
   "metadata": {
    "collapsed": false,
    "pycharm": {
     "name": "#%%\n"
    }
   }
  },
  {
   "cell_type": "markdown",
   "source": [
    "## FFTKDE"
   ],
   "metadata": {
    "collapsed": false,
    "pycharm": {
     "name": "#%% md\n"
    }
   }
  },
  {
   "cell_type": "markdown",
   "source": [
    "#### fix grid error:\n",
    "because i found that if we do not manually generate grid using np.linspace, the peak values in kde detected is lagged!!\n",
    "\n",
    "https://github.com/tommyod/KDEpy/issues/15"
   ],
   "metadata": {
    "collapsed": false,
    "pycharm": {
     "name": "#%% md\n"
    }
   }
  },
  {
   "cell_type": "code",
   "execution_count": 11,
   "outputs": [],
   "source": [
    "from KDEpy import FFTKDE\n",
    "\n",
    "# Create 2D grid\n",
    "kde_grid_x = np.linspace(data_mir.min() - 1, data_mir.max() + 1, grid_size_mir)  # \"-1, +1\" is used to ensure range\n",
    "kde_grid_y = np.linspace(data_mir.min() - 1, data_mir.max() + 1, grid_size_mir)\n",
    "kde_grid = np.stack(np.meshgrid(kde_grid_x, kde_grid_y), -1).reshape(-1, 2)\n",
    "kde_grid[:, [0, 1]] = kde_grid[:, [1, 0]]  # Swap indices"
   ],
   "metadata": {
    "collapsed": false,
    "pycharm": {
     "name": "#%%\n"
    }
   }
  },
  {
   "cell_type": "code",
   "execution_count": 12,
   "outputs": [
    {
     "name": "stdout",
     "output_type": "stream",
     "text": [
      "\n"
     ]
    }
   ],
   "source": [
    "from KDEpy import TreeKDE\n",
    "print()\n",
    "fit = FFTKDE(bw=1, kernel='epa').fit(data_mir)\n",
    "z_kde = fit.evaluate(kde_grid)\n",
    "z_kde_grid = z_kde.reshape(grid_size_mir, grid_size_mir).T\n"
   ],
   "metadata": {
    "collapsed": false,
    "pycharm": {
     "name": "#%%\n"
    }
   }
  },
  {
   "cell_type": "code",
   "execution_count": 13,
   "outputs": [],
   "source": [
    "# xff_mir, yff_mir = np.unique(xy_mir[:, 0]), np.unique(xy_mir[:, 1])\n",
    "# zffr_mir = z_kde_mir.reshape(grid_size_mir, grid_size_mir).T\n"
   ],
   "metadata": {
    "collapsed": false,
    "pycharm": {
     "name": "#%%\n"
    }
   }
  },
  {
   "cell_type": "code",
   "execution_count": 14,
   "outputs": [],
   "source": [
    "\n",
    "plt.figure()\n",
    "N = 8  # Number of contours\n",
    "plt.title('contours of mirrored kde')\n",
    "plt.contour(kde_grid_x, kde_grid_y, z_kde_grid, N, linewidths=0.8, colors=\"k\")\n",
    "plt.contourf(kde_grid_x, kde_grid_y, z_kde_grid, N, cmap=\"PuBu\")\n",
    "plt.plot(data[:, 0], data[:, 1], \"ok\", ms=2)\n",
    "# plt.gca().invert_yaxis()\n",
    "# plt.yticks([])\n",
    "# plt.xticks([])\n",
    "plt.show()"
   ],
   "metadata": {
    "collapsed": false,
    "pycharm": {
     "name": "#%%\n"
    }
   }
  },
  {
   "cell_type": "markdown",
   "source": [
    "### MIDDLE PART (NON MIRROR)"
   ],
   "metadata": {
    "collapsed": false,
    "pycharm": {
     "name": "#%% md\n"
    }
   }
  },
  {
   "cell_type": "markdown",
   "source": [
    "#### take out middle part (non mirror)"
   ],
   "metadata": {
    "collapsed": false,
    "pycharm": {
     "name": "#%% md\n"
    }
   }
  },
  {
   "cell_type": "code",
   "execution_count": 15,
   "outputs": [],
   "source": [
    "kde_grid_x_mid = kde_grid_x[grid_size:2 * grid_size]\n",
    "kde_grid_y_mid = kde_grid_y[grid_size:2 * grid_size]\n",
    "z_kde_grid_mid = z_kde_grid[grid_size:2 * grid_size, grid_size:2 * grid_size]"
   ],
   "metadata": {
    "collapsed": false,
    "pycharm": {
     "name": "#%%\n"
    }
   }
  },
  {
   "cell_type": "markdown",
   "source": [
    "#### 3d kde of middle part (non mirror)"
   ],
   "metadata": {
    "collapsed": false,
    "pycharm": {
     "name": "#%% md\n"
    }
   }
  },
  {
   "cell_type": "code",
   "execution_count": 29,
   "outputs": [],
   "source": [
    "fig = plt.figure()\n",
    "ax = plt.axes(projection='3d')\n",
    "# surf = ax.plot_surface(xff, yff, zffr, rstride=1, cstride=1, cmap='coolwarm', edgecolor='none')\n",
    "surf = ax.plot_surface(x_mg, y_mg, z_kde_grid_mid, rstride=1, cstride=1, cmap='viridis', edgecolor='none')\n",
    "ax.set_xlabel('Latitude', labelpad=18, fontweight='bold')\n",
    "ax.set_ylabel('Longitude', labelpad=8, fontweight='bold')\n",
    "ax.set_zlabel('PDF', labelpad=8, fontweight='bold')\n",
    "# ax.set_title(' 3d kde of middle part (non mirror)')\n",
    "# ax.set_ylim3d( y_mg.max(), y_mg.min(),)\n",
    "ax.set_xlim3d(x_mg.max(), x_mg.min(), )  # to make the axis values order same as 2d plot\n",
    "ax.ticklabel_format(useOffset=False)\n",
    "ax.tick_params(axis='x', which='major', pad=8)\n",
    "ax.tick_params(axis='y', which='major', pad=3)\n",
    "fig.colorbar(surf, shrink=.3, aspect=5)  # add color bar indicating the PDF\n",
    "ax.view_init(60, 35)\n",
    "# plt.show()"
   ],
   "metadata": {
    "collapsed": false,
    "pycharm": {
     "name": "#%%\n"
    }
   }
  },
  {
   "cell_type": "markdown",
   "source": [
    "#### peak_local_max of middle part"
   ],
   "metadata": {
    "collapsed": false,
    "pycharm": {
     "name": "#%% md\n"
    }
   }
  },
  {
   "cell_type": "code",
   "execution_count": 16,
   "outputs": [],
   "source": [],
   "metadata": {
    "collapsed": false,
    "pycharm": {
     "name": "#%%\n"
    }
   }
  },
  {
   "cell_type": "markdown",
   "source": [],
   "metadata": {
    "collapsed": false,
    "pycharm": {
     "name": "#%% md\n"
    }
   }
  },
  {
   "cell_type": "code",
   "execution_count": 17,
   "outputs": [],
   "source": [
    "\n",
    "from skimage.feature import peak_local_max\n",
    "\n",
    "pk_coords_mid = peak_local_max(z_kde_grid_mid, exclude_border=False, threshold_rel=0.3,\n",
    "                               min_distance=round(\n",
    "                                   grid_size * .05))  # coordinate!!  note the ration .3 and min_dsitance 2"
   ],
   "metadata": {
    "collapsed": false,
    "pycharm": {
     "name": "#%%\n"
    }
   }
  },
  {
   "cell_type": "markdown",
   "source": [
    "#### show middle part kde image"
   ],
   "metadata": {
    "collapsed": false,
    "pycharm": {
     "name": "#%% md\n"
    }
   }
  },
  {
   "cell_type": "code",
   "execution_count": 18,
   "outputs": [],
   "source": [
    "plt.figure()\n",
    "# plt.title('z_kde_grid_mid')\n",
    "plt.imshow(z_kde_grid_mid, interpolation='none', cmap='viridis')\n",
    "plt.plot(pk_coords_mid[:, 1], pk_coords_mid[:, 0], 'r.')  # note columns' order\n",
    "# plt.plot(pk_coords_mid[:, 1], pk_coords_mid[:, 0], color='grey', marker='.')  # note columns' order\n",
    "plt.xlabel(\"Latitude\", fontweight='bold')\n",
    "plt.ylabel(\"Longitude\", fontweight='bold')\n",
    "plt.colorbar()\n",
    "ax=plt.gca()\n",
    "ax.invert_yaxis()\n",
    "x_ticks = ['', '50.9625', '50.9626', '50.9627', '50.9628', '50.9629', '50.9630' , '50.9631']\n",
    "y_ticks = ['' ,'0.0960', '0.0965', '0.0970', '0.0975']\n",
    "plt.xticks(np.arange(0,100, 100/8),  x_ticks, rotation=30)\n",
    "plt.yticks(np.arange(0,100, 100/5), y_ticks)\n",
    "# ax.set_xticklabels(['', '50.9625', '50.9626', '50.9627', '50.9628', '50.9629', '50.9630' , '50.9631'])\n",
    "# ax.set_yticklabels(['' ,'0.0960', '0.0965', '0.0970', '0.0975'])\n",
    "plt.show()"
   ],
   "metadata": {
    "collapsed": false,
    "pycharm": {
     "name": "#%%\n"
    }
   }
  },
  {
   "cell_type": "markdown",
   "source": [
    "### ENTIRE PART"
   ],
   "metadata": {
    "collapsed": false,
    "pycharm": {
     "name": "#%% md\n"
    }
   }
  },
  {
   "cell_type": "code",
   "execution_count": 18,
   "outputs": [],
   "source": [],
   "metadata": {
    "collapsed": false,
    "pycharm": {
     "name": "#%%\n"
    }
   }
  },
  {
   "cell_type": "markdown",
   "source": [
    "#### do  peaklocalmax for entire mirrored result"
   ],
   "metadata": {
    "collapsed": false,
    "pycharm": {
     "name": "#%% md\n"
    }
   }
  },
  {
   "cell_type": "markdown",
   "source": [],
   "metadata": {
    "collapsed": false,
    "pycharm": {
     "name": "#%% md\n"
    }
   }
  },
  {
   "cell_type": "code",
   "execution_count": 19,
   "outputs": [
    {
     "data": {
      "text/plain": "array([[ 79,  33],\n       [121, 167],\n       [277, 231],\n       [271, 238],\n       [127, 160],\n       [ 73,  40],\n       [238, 290],\n       [160, 108],\n       [ 40,  92],\n       [242, 284],\n       [156, 114],\n       [ 44,  86],\n       [ 28,  99],\n       [172, 101],\n       [226, 297],\n       [262, 247],\n       [136, 151],\n       [ 64,  49],\n       [ 55,  61],\n       [145, 139],\n       [253, 259],\n       [ 16,  87],\n       [184, 113],\n       [214, 285],\n       [231, 293],\n       [167, 105],\n       [ 33,  95],\n       [251, 267],\n       [147, 131],\n       [  9,  78],\n       [191, 122],\n       [ 53,  69],\n       [207, 276],\n       [285, 223],\n       [113, 175],\n       [ 87,  25],\n       [ 97,   8],\n       [103, 192],\n       [295, 206],\n       [294, 210],\n       [104, 188],\n       [ 96,  12],\n       [ 68,  45],\n       [132, 155],\n       [266, 243],\n       [ 99,   2],\n       [101, 198],\n       [297, 200],\n       [220, 291],\n       [178, 107],\n       [ 22,  93],\n       [ 50,  74],\n       [150, 126],\n       [248, 272],\n       [291, 217],\n       [107, 181],\n       [ 93,  19],\n       [ 58,  55],\n       [257, 253],\n       [142, 144],\n       [  1,  66],\n       [199, 134],\n       [199, 264],\n       [  3,  70],\n       [197, 130],\n       [201, 268]])"
     },
     "execution_count": 19,
     "metadata": {},
     "output_type": "execute_result"
    }
   ],
   "source": [
    "from skimage.feature import peak_local_max\n",
    "\n",
    "# coordinate!!  note the ratio and distance\n",
    "pk_coords_mir = peak_local_max(z_kde_grid, exclude_border=False, threshold_rel=0.1,\n",
    "                               min_distance=2)\n",
    "# pk_coords_mir = peak_local_max(z_kde_grid, exclude_border=False,)\n",
    "pk_coords_mir"
   ],
   "metadata": {
    "collapsed": false,
    "pycharm": {
     "name": "#%%\n"
    }
   }
  },
  {
   "cell_type": "code",
   "execution_count": 20,
   "outputs": [
    {
     "name": "stdout",
     "output_type": "stream",
     "text": [
      "\n",
      "0 [[ 79  33]\n",
      " [121 167]\n",
      " [277 231]\n",
      " [271 238]\n",
      " [127 160]\n",
      " [ 73  40]\n",
      " [238 290]\n",
      " [160 108]\n",
      " [ 40  92]\n",
      " [242 284]\n",
      " [156 114]\n",
      " [ 44  86]\n",
      " [ 28  99]\n",
      " [172 101]\n",
      " [226 297]\n",
      " [262 247]\n",
      " [136 151]\n",
      " [ 64  49]\n",
      " [ 55  61]\n",
      " [145 139]\n",
      " [253 259]\n",
      " [ 16  87]\n",
      " [184 113]\n",
      " [214 285]\n",
      " [231 293]\n",
      " [167 105]\n",
      " [ 33  95]\n",
      " [251 267]\n",
      " [147 131]\n",
      " [  9  78]\n",
      " [191 122]\n",
      " [ 53  69]\n",
      " [207 276]\n",
      " [285 223]\n",
      " [113 175]\n",
      " [ 87  25]\n",
      " [ 97   8]\n",
      " [103 192]\n",
      " [295 206]\n",
      " [294 210]\n",
      " [104 188]\n",
      " [ 96  12]\n",
      " [ 68  45]\n",
      " [132 155]\n",
      " [266 243]\n",
      " [ 99   2]\n",
      " [101 198]\n",
      " [297 200]\n",
      " [220 291]\n",
      " [178 107]\n",
      " [ 22  93]\n",
      " [ 50  74]\n",
      " [150 126]\n",
      " [248 272]\n",
      " [291 217]\n",
      " [107 181]\n",
      " [ 93  19]\n",
      " [ 58  55]\n",
      " [257 253]\n",
      " [142 144]\n",
      " [  1  66]\n",
      " [199 134]\n",
      " [199 264]\n",
      " [  3  70]\n",
      " [197 130]\n",
      " [201 268]]\n",
      "\n"
     ]
    },
    {
     "data": {
      "text/plain": "array([[ 79,  33],\n       [121, 167],\n       [277, 231],\n       [271, 238],\n       [127, 160],\n       [ 73,  40],\n       [238, 290],\n       [160, 108],\n       [ 40,  92],\n       [242, 284],\n       [156, 114],\n       [ 44,  86],\n       [ 28,  99],\n       [172, 101],\n       [226, 297],\n       [262, 247],\n       [136, 151],\n       [ 64,  49],\n       [ 55,  61],\n       [145, 139],\n       [253, 259],\n       [ 16,  87],\n       [184, 113],\n       [214, 285],\n       [231, 293],\n       [167, 105],\n       [ 33,  95],\n       [251, 267],\n       [147, 131],\n       [  9,  78],\n       [191, 122],\n       [ 53,  69],\n       [207, 276],\n       [285, 223],\n       [113, 175],\n       [ 87,  25],\n       [ 97,   8],\n       [103, 192],\n       [295, 206],\n       [294, 210],\n       [104, 188],\n       [ 96,  12],\n       [ 68,  45],\n       [132, 155],\n       [266, 243],\n       [ 99,   2],\n       [101, 198],\n       [297, 200]])"
     },
     "execution_count": 20,
     "metadata": {},
     "output_type": "execute_result"
    }
   ],
   "source": [
    "def find_peak_repeatedly(data, min_peaks=3 * 4, max_peaks=3 * 9, threshold_rel=0, min_distance=2):\n",
    "    \"\"\"\n",
    "    To avoid the situation that a very high peak occurred lead to the rest peaks cannot be identified,\n",
    "    hence we repeatedly find peaks by making already identified peaks equal to zero until the `min_peaks` is met.\n",
    "    Besides, the `max_peaks` is also required, if peaks more than `max_peaks` is detected, we only need the former highest\n",
    "    `max_peaks`.\n",
    "\n",
    "    Returns: indices of peaks\n",
    "\n",
    "    \"\"\"\n",
    "    data_cp = np.copy(data)\n",
    "\n",
    "    results = None\n",
    "    n_pks = 0\n",
    "    while n_pks <= min_peaks:\n",
    "        pks = peak_local_max(data_cp, exclude_border=False, threshold_rel=threshold_rel, min_distance=min_distance)\n",
    "        print(n_pks, pks)\n",
    "        if results is None:\n",
    "            results = pks\n",
    "        else:\n",
    "            results = np.concatenate([results, pks])\n",
    "        n_pks += len(pks)\n",
    "        # results += pks\n",
    "        for p in pks:\n",
    "            data_cp[p[0], p[1]] = 0\n",
    "\n",
    "    if n_pks > max_peaks:\n",
    "        # print([coord for coord in results])\n",
    "        pk_vals = np.array([[*coord, data[coord[0], coord[1]]] for coord in results])\n",
    "        # sort by peak val\n",
    "        pk_vals = pk_vals[pk_vals[:, 2].argsort()][::-1]\n",
    "        results = pk_vals[:max_peaks, [0, 1]].astype(int)\n",
    "    return np.array(results)\n",
    "\n",
    "\n",
    "print()\n",
    "pk_coords_mir = find_peak_repeatedly(z_kde_grid, min_peaks=3 * 4, max_peaks=3 * 16, threshold_rel=0.1, min_distance=2)\n",
    "print()\n",
    "pk_coords_mir"
   ],
   "metadata": {
    "collapsed": false,
    "pycharm": {
     "name": "#%%\n"
    }
   }
  },
  {
   "cell_type": "markdown",
   "source": [
    "#### histogram of kde 2d"
   ],
   "metadata": {
    "collapsed": false,
    "pycharm": {
     "name": "#%% md\n"
    }
   }
  },
  {
   "cell_type": "code",
   "execution_count": 21,
   "outputs": [],
   "source": [
    "plt.figure()\n",
    "plt.hist(z_kde_grid.reshape(-1), bins=100)\n",
    "plt.show()"
   ],
   "metadata": {
    "collapsed": false,
    "pycharm": {
     "name": "#%%\n"
    }
   }
  },
  {
   "cell_type": "markdown",
   "source": [
    "#### show entire kde image"
   ],
   "metadata": {
    "collapsed": false,
    "pycharm": {
     "name": "#%% md\n"
    }
   }
  },
  {
   "cell_type": "code",
   "execution_count": 22,
   "outputs": [],
   "source": [
    "plt.figure()\n",
    "plt.title('z_kde_grid')\n",
    "plt.imshow(z_kde_grid)\n",
    "plt.plot(pk_coords_mir[:, 1], pk_coords_mir[:, 0], 'r.')  # note columns' order\n",
    "plt.gca().invert_yaxis()\n",
    "plt.show()"
   ],
   "metadata": {
    "collapsed": false,
    "pycharm": {
     "name": "#%%\n"
    }
   }
  },
  {
   "cell_type": "markdown",
   "source": [
    "### get peak index"
   ],
   "metadata": {
    "collapsed": false,
    "pycharm": {
     "name": "#%% md\n"
    }
   }
  },
  {
   "cell_type": "code",
   "execution_count": 23,
   "outputs": [
    {
     "data": {
      "text/plain": "array([[ 33,  79],\n       [167, 121],\n       [231, 277],\n       [238, 271],\n       [160, 127],\n       [ 40,  73],\n       [290, 238],\n       [108, 160],\n       [ 92,  40],\n       [284, 242],\n       [114, 156],\n       [ 86,  44],\n       [ 99,  28],\n       [101, 172],\n       [297, 226],\n       [247, 262],\n       [151, 136],\n       [ 49,  64],\n       [ 61,  55],\n       [139, 145],\n       [259, 253],\n       [ 87,  16],\n       [113, 184],\n       [285, 214],\n       [293, 231],\n       [105, 167],\n       [ 95,  33],\n       [267, 251],\n       [131, 147],\n       [ 78,   9],\n       [122, 191],\n       [ 69,  53],\n       [276, 207],\n       [223, 285],\n       [175, 113],\n       [ 25,  87],\n       [  8,  97],\n       [192, 103],\n       [206, 295],\n       [210, 294],\n       [188, 104],\n       [ 12,  96],\n       [ 45,  68],\n       [155, 132],\n       [243, 266],\n       [  2,  99],\n       [198, 101],\n       [200, 297]])"
     },
     "execution_count": 23,
     "metadata": {},
     "output_type": "execute_result"
    }
   ],
   "source": [
    "pk_coords_mir_correct = np.vstack(\n",
    "    [pk_coords_mir[:, 1], pk_coords_mir[:, 0]]).T  # make columns order correct to calculate distance later\n",
    "pk_coords_mir_correct"
   ],
   "metadata": {
    "collapsed": false,
    "pycharm": {
     "name": "#%%\n"
    }
   }
  },
  {
   "cell_type": "markdown",
   "source": [
    "find the close one to pk_coord in data"
   ],
   "metadata": {
    "collapsed": false,
    "pycharm": {
     "name": "#%% md\n"
    }
   }
  },
  {
   "cell_type": "code",
   "execution_count": 24,
   "outputs": [
    {
     "name": "stdout",
     "output_type": "stream",
     "text": [
      "[array([167, 121]), array([160, 127]), array([108, 160]), array([114, 156]), array([101, 172]), array([151, 136]), array([139, 145]), array([113, 184]), array([105, 167]), array([131, 147]), array([122, 191]), array([175, 113]), array([192, 103]), array([188, 104]), array([155, 132]), array([198, 101])]\n"
     ]
    },
    {
     "data": {
      "text/plain": "array([[67, 21],\n       [60, 27],\n       [ 8, 60],\n       [14, 56],\n       [ 1, 72],\n       [51, 36],\n       [39, 45],\n       [13, 84],\n       [ 5, 67],\n       [31, 47],\n       [22, 91],\n       [75, 13],\n       [92,  3],\n       [88,  4],\n       [55, 32],\n       [98,  1]])"
     },
     "execution_count": 24,
     "metadata": {},
     "output_type": "execute_result"
    }
   ],
   "source": [
    "pk_coords_unmir_correct = []\n",
    "for pk in pk_coords_mir_correct:\n",
    "    x, y = pk[0], pk[1]\n",
    "    if x in range(grid_size, 2 * grid_size) and y in range(grid_size, 2 * grid_size):\n",
    "        pk_coords_unmir_correct.append(pk)\n",
    "print(pk_coords_unmir_correct)\n",
    "pk_coords_unmir_correct = np.array(pk_coords_unmir_correct) - grid_size\n",
    "pk_coords_unmir_correct"
   ],
   "metadata": {
    "collapsed": false,
    "pycharm": {
     "name": "#%%\n"
    }
   }
  },
  {
   "cell_type": "code",
   "execution_count": 25,
   "outputs": [
    {
     "name": "stdout",
     "output_type": "stream",
     "text": [
      "pk_coord, min_dist_point, min_dist, min_dist_point_idx\n",
      "[67 21] [67.49688217 21.11389997] 0.5097696496705368 96\n",
      "[60 27] [60.56271394 27.55088785] 0.7874797788232187 88\n",
      "[ 8 60] [ 8.4000544  60.49706055] 0.63805384480595 44\n",
      "[14 56] [14.37948685 56.15913577] 0.4115026914141611 50\n",
      "[ 1 72] [ 0.26490699 71.78317841] 0.7664028574489219 32\n",
      "[51 36] [51.69028308 36.42504392] 0.8106497765989114 78\n",
      "[39 45] [38.77957598 45.288051  ] 0.362712186650839 67\n",
      "[13 84] [12.91490279 84.3352878 ] 0.3459182606933599 17\n",
      "[ 5 67] [ 5.0937085  67.63798566] 0.6448309731786107 37\n",
      "[31 47] [31.62332571 47.82410585] 1.0332886280174434 62\n",
      "[22 91] [21.56988134 91.35662793] 0.5587356654365296 9\n",
      "[75 13] [75.76079377 13.19855664] 0.7862772377803798 106\n",
      "[92  3] [91.9318389  3.1698989] 0.18306166486442235 120\n",
      "[88  4] [88.43321479  4.41587073] 0.6005193737151374 117\n",
      "[55 32] [55.10571684 32.13884074] 0.1745073087910646 83\n",
      "[98  1] [97.59862034  1.08673523] 0.41064416366575823 125\n",
      "[96, 88, 44, 50, 32, 78, 67, 17, 37, 62, 9, 106, 120, 117, 83, 125]\n"
     ]
    }
   ],
   "source": [
    "from scipy.spatial import distance\n",
    "\n",
    "pk_point_idx = []\n",
    "print('pk_coord, min_dist_point, min_dist, min_dist_point_idx')\n",
    "\n",
    "for pk_coord in pk_coords_unmir_correct:\n",
    "    min_dist = math.inf\n",
    "    min_dist_point_idx = -1  # idx\n",
    "    for i, point in enumerate(data):\n",
    "        # if i not in range(grid_size, 2*grid_size):\n",
    "        #     continue\n",
    "        dist = distance.euclidean(point, pk_coord)\n",
    "        if dist < min_dist:\n",
    "            min_dist = dist\n",
    "            min_dist_point = point\n",
    "            min_dist_point_idx = i\n",
    "    print(pk_coord, min_dist_point, min_dist, min_dist_point_idx)\n",
    "    pk_point_idx.append(min_dist_point_idx)\n",
    "print(pk_point_idx)"
   ],
   "metadata": {
    "collapsed": false,
    "pycharm": {
     "name": "#%%\n"
    }
   }
  },
  {
   "cell_type": "code",
   "execution_count": 26,
   "outputs": [],
   "source": [
    "plt.figure()\n",
    "# plt.scatter(x, y)\n",
    "# plt.plot(x_s, y_s, color='red', marker='o', markerfacecolor='white', markeredgecolor='#1f77b4', markeredgewidth=1.5)\n",
    "plt.plot(x_ori, y_ori, color='red', marker='o', markerfacecolor='white', markeredgecolor='#1f77b4', markeredgewidth=1.5)\n",
    "plt.xlabel(\"Latitude\")\n",
    "plt.ylabel(\"Longitude\")\n",
    "plt.ticklabel_format(style='plain', axis='x', useOffset=False)\n",
    "# plt.scatter(x_s[pk_point_idx], y_s[pk_point_idx], c='red', zorder=100)\n",
    "plt.scatter(x_ori[pk_point_idx], y_ori[pk_point_idx], c='red', zorder=100)\n",
    "plt.show()"
   ],
   "metadata": {
    "collapsed": false,
    "pycharm": {
     "name": "#%%\n"
    }
   }
  },
  {
   "cell_type": "code",
   "execution_count": 26,
   "outputs": [],
   "source": [],
   "metadata": {
    "collapsed": false,
    "pycharm": {
     "name": "#%%\n"
    }
   }
  }
 ],
 "metadata": {
  "kernelspec": {
   "display_name": "Python 3",
   "language": "python",
   "name": "python3"
  },
  "language_info": {
   "codemirror_mode": {
    "name": "ipython",
    "version": 2
   },
   "file_extension": ".py",
   "mimetype": "text/x-python",
   "name": "python",
   "nbconvert_exporter": "python",
   "pygments_lexer": "ipython2",
   "version": "2.7.6"
  }
 },
 "nbformat": 4,
 "nbformat_minor": 0
}