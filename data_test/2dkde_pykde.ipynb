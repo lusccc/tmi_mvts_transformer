{
 "cells": [
  {
   "cell_type": "markdown",
   "source": [],
   "metadata": {
    "collapsed": false,
    "pycharm": {
     "name": "#%% md\n"
    }
   }
  },
  {
   "cell_type": "code",
   "execution_count": 208,
   "metadata": {
    "collapsed": true,
    "pycharm": {
     "name": "#%%\n"
    }
   },
   "outputs": [],
   "source": [
    "import math\n",
    "\n",
    "import matplotlib\n",
    "import numpy as np\n",
    "import matplotlib.pyplot as plt\n",
    "import scipy.stats as st\n",
    "from IPython.display import display\n",
    "from sklearn.neighbors import KernelDensity\n",
    "# %matplotlib ipympl\n",
    "%matplotlib qt5\n",
    "# %matplotlib widget\n",
    "# matplotlib.use(\"nbagg\")  # interactive !\n",
    "# matplotlib.use('Qt5Agg')"
   ]
  },
  {
   "cell_type": "code",
   "execution_count": 209,
   "outputs": [],
   "source": [
    "def getExtremePoints(data, typeOfInflexion=None, maxPoints=None):\n",
    "    \"\"\"\n",
    "    This method returns the indeces where there is a change in the trend of the input series.\n",
    "    typeOfInflexion = None returns all inflexion points, max only maximum values and min\n",
    "    only min,\n",
    "    \"\"\"\n",
    "    a = np.diff(data)\n",
    "    asign = np.sign(a)\n",
    "    signchange = ((np.roll(asign, 1) - asign) != 0).astype(int)\n",
    "    idx = np.where(signchange == 1)[0]\n",
    "\n",
    "    if typeOfInflexion == 'max' and data[idx[0]] < data[idx[1]]:\n",
    "        idx = idx[1:][::2]\n",
    "\n",
    "    elif typeOfInflexion == 'min' and data[idx[0]] > data[idx[1]]:\n",
    "        idx = idx[1:][::2]\n",
    "    elif typeOfInflexion is not None:\n",
    "        idx = idx[::2]\n",
    "\n",
    "    # sort ids by min value\n",
    "    if 0 in idx:\n",
    "        idx = np.delete(idx, 0)\n",
    "    if (len(data) - 1) in idx:\n",
    "        idx = np.delete(idx, len(data) - 1)\n",
    "    idx = idx[np.argsort(data[idx])]\n",
    "    # If we have maxpoints we want to make sure the timeseries has a cutpoint\n",
    "    # in each segment, not all on a small interval\n",
    "    if maxPoints is not None:\n",
    "        idx = idx[:maxPoints]\n",
    "        if len(idx) < maxPoints:\n",
    "            return (np.arange(maxPoints) + 1) * (len(data) // (maxPoints + 1))\n",
    "\n",
    "    return idx\n",
    "\n",
    "\n",
    "from scipy import ndimage as ndi\n",
    "\n",
    "\n",
    "def local_maxima_3D(data, order=1):\n",
    "    \"\"\"Detects local maxima in a 3D array\n",
    "\n",
    "    Parameters\n",
    "    ---------\n",
    "    data : 3d ndarray\n",
    "    order : int\n",
    "        How many points on each side to use for the comparison\n",
    "\n",
    "    Returns\n",
    "    -------\n",
    "    coords : ndarray\n",
    "        coordinates of the local maxima\n",
    "    values : ndarray\n",
    "        values of the local maxima\n",
    "    \"\"\"\n",
    "    size = 1 + 2 * order\n",
    "    footprint = np.ones((size, size, size))\n",
    "    footprint[order, order, order] = 0\n",
    "\n",
    "    filtered = ndi.maximum_filter(data, footprint=footprint)\n",
    "    mask_local_maxima = data > filtered\n",
    "    coords = np.asarray(np.where(mask_local_maxima)).T\n",
    "    values = data[mask_local_maxima]\n",
    "\n",
    "    return coords, values"
   ],
   "metadata": {
    "collapsed": false,
    "pycharm": {
     "name": "#%%\n"
    }
   }
  },
  {
   "cell_type": "code",
   "execution_count": 210,
   "outputs": [],
   "source": [
    "# i = 767\n",
    "# i = 877\n",
    "# i = 987 # abnormal?\n",
    "# i = 452\n",
    "# i = 356 # good shape\n",
    "# i = 333 # good\n",
    "# i = 803 # good not enough\n",
    "# i = 111 # looks good, using this\n",
    "# i = 85\n",
    "# i = 86 # strange\n",
    "# i = 91  # edge density\n",
    "i = 106  # should use this\n",
    "# i = 95 # classic\n",
    "# i = 99 # classic\n",
    "trj = np.load(f'../data/SHL_msk3_features/clean_trj_segs.npy', allow_pickle=True)[i]\n",
    "fs = np.load(f'../data/SHL_msk3_features/clean_multi_feature_segs.npy', allow_pickle=True)[i]\n",
    "fs_msk = np.load(f'../data/SHL_msk3_features/fs_seg_masks.npy', allow_pickle=True)[i]\n",
    "\n",
    "d = fs[2]\n",
    "v = fs[3]\n",
    "a = fs[4]\n",
    "jk = fs[5]\n",
    "hc = fs[7]\n",
    "hcr = fs[8]\n",
    "\n",
    "x = trj[0]\n",
    "y = trj[1]\n",
    "d_ = np.vstack([x, y]).T\n",
    "\n",
    "minx, miny = min(x), min(y)\n",
    "\n",
    "n = len(x)\n",
    "\n"
   ],
   "metadata": {
    "collapsed": false,
    "pycharm": {
     "name": "#%%\n"
    }
   }
  },
  {
   "cell_type": "markdown",
   "source": [],
   "metadata": {
    "collapsed": false,
    "pycharm": {
     "name": "#%% md\n"
    }
   }
  },
  {
   "cell_type": "code",
   "execution_count": 211,
   "outputs": [],
   "source": [
    "# plt.figure(figsize=(15,15))\n",
    "plt.figure()\n",
    "plt.title('trj')\n",
    "# plt.scatter(x, y)\n",
    "plt.plot(x, y, color='red', marker='o', markerfacecolor='white',\n",
    "         markeredgecolor='#1f77b4', markeredgewidth=1.5)\n",
    "plt.xlabel(\"Latitude\")\n",
    "plt.ylabel(\"Longitude\")\n",
    "plt.ticklabel_format(style='plain', axis='x', useOffset=False)\n",
    "plt.show()"
   ],
   "metadata": {
    "collapsed": false,
    "pycharm": {
     "name": "#%%\n"
    }
   }
  },
  {
   "cell_type": "markdown",
   "source": [
    "#### scale!"
   ],
   "metadata": {
    "collapsed": false,
    "pycharm": {
     "name": "#%% md\n"
    }
   }
  },
  {
   "cell_type": "code",
   "execution_count": 212,
   "outputs": [],
   "source": [
    "from sklearn.preprocessing import MinMaxScaler\n",
    "\n",
    "target_scale = 100 # 0~100\n",
    "grid_size = 100\n",
    "\n",
    "# transform trj to same scale as the grid of kde\n",
    "scaler = MinMaxScaler(feature_range=(0, 1))\n",
    "x_s = scaler.fit_transform(x.reshape(-1, 1)).squeeze() * target_scale\n",
    "y_s = scaler.fit_transform(y.reshape(-1, 1)).squeeze() * target_scale\n",
    "plt.figure()\n",
    "plt.title('trj scaled')\n",
    "\n",
    "plt.plot(x_s, y_s, color='red', marker='o', markerfacecolor='white',\n",
    "         markeredgecolor='#1f77b4', markeredgewidth=1.5)\n",
    "plt.xlabel(\"Latitude\")\n",
    "plt.ylabel(\"Longitude\")\n",
    "plt.show()"
   ],
   "metadata": {
    "collapsed": false,
    "pycharm": {
     "name": "#%%\n"
    }
   }
  },
  {
   "cell_type": "markdown",
   "source": [
    "#### Create meshgrid"
   ],
   "metadata": {
    "collapsed": false,
    "pycharm": {
     "name": "#%% md\n"
    }
   }
  },
  {
   "cell_type": "code",
   "execution_count": 213,
   "outputs": [],
   "source": [
    "deltaX = (max(x) - min(x)) / 10\n",
    "deltaY = (max(y) - min(y)) / 10\n",
    "\n",
    "xmin = min(x) - deltaX\n",
    "xmax = max(x) + deltaX\n",
    "\n",
    "ymin = min(y) - deltaY\n",
    "ymax = max(y) + deltaY\n",
    "\n",
    "# Create meshgrid\n",
    "x_mg, y_mg = np.mgrid[xmin:xmax:complex(0, grid_size ), ymin:ymax:complex(0, grid_size )]\n"
   ],
   "metadata": {
    "collapsed": false,
    "pycharm": {
     "name": "#%%\n"
    }
   }
  },
  {
   "cell_type": "markdown",
   "source": [
    "#### Boundary correction using mirroring, then do kde\n",
    "https://kdepy.readthedocs.io/en/latest/examples.html#boundary-correction-using-mirroring"
   ],
   "metadata": {
    "collapsed": false,
    "pycharm": {
     "name": "#%% md\n"
    }
   }
  },
  {
   "cell_type": "code",
   "execution_count": 214,
   "outputs": [
    {
     "data": {
      "text/plain": "(384, 2)"
     },
     "execution_count": 214,
     "metadata": {},
     "output_type": "execute_result"
    }
   ],
   "source": [
    "data = np.vstack([x_s, y_s]).T  # use scaled data!!!.\n",
    "\n",
    "# n_bdry_ext = round(n * .1)\n",
    "# begin_ext = data[1:n_bdry_ext][::-1] # note: remove 1st repeat element\n",
    "# end_ext = data[-n_bdry_ext:-1][::-1] #\n",
    "# data_ext = np.vstack([begin_ext, data, end_ext])\n",
    "\n",
    "# x_s_mir = np.concatenate([(2 * x_s.min() - x_s)[:-1], x_s, (2 * x_s.max() - x_s)[1:]])\n",
    "# y_s_mir = np.concatenate([(2 * y_s.min() - y_s)[:-1], y_s, (2 * y_s.max() - y_s)[1:]])\n",
    "x_s_mir = np.concatenate([(2 * x_s.min() - x_s), x_s, (2 * x_s.max() - x_s)])\n",
    "y_s_mir = np.concatenate([(2 * y_s.min() - y_s), y_s, (2 * y_s.max() - y_s)])\n",
    "data_mir = np.vstack([x_s_mir, y_s_mir]).T  # use scaled data!!!.\n",
    "data_mir.shape  # n points and each point dim"
   ],
   "metadata": {
    "collapsed": false,
    "pycharm": {
     "name": "#%%\n"
    }
   }
  },
  {
   "cell_type": "markdown",
   "source": [
    "mirrored, hence the grid_size to do kde is 3 times"
   ],
   "metadata": {
    "collapsed": false,
    "pycharm": {
     "name": "#%% md\n"
    }
   }
  },
  {
   "cell_type": "code",
   "execution_count": 215,
   "outputs": [],
   "source": [
    "grid_size_mir = grid_size * 3"
   ],
   "metadata": {
    "collapsed": false,
    "pycharm": {
     "name": "#%%\n"
    }
   }
  },
  {
   "cell_type": "code",
   "execution_count": 216,
   "outputs": [],
   "source": [
    "plt.figure()\n",
    "plt.title('trj scaled mirrored')\n",
    "\n",
    "plt.plot(x_s_mir, y_s_mir, color='red', marker='o', markerfacecolor='white',\n",
    "         markeredgecolor='#1f77b4', markeredgewidth=1.5)\n",
    "plt.xlabel(\"Latitude\")\n",
    "plt.ylabel(\"Longitude\")\n",
    "plt.show()"
   ],
   "metadata": {
    "collapsed": false,
    "pycharm": {
     "name": "#%%\n"
    }
   }
  },
  {
   "cell_type": "markdown",
   "source": [
    "## FFTKDE"
   ],
   "metadata": {
    "collapsed": false,
    "pycharm": {
     "name": "#%% md\n"
    }
   }
  },
  {
   "cell_type": "markdown",
   "source": [
    "#### fix grid error:\n",
    "because i found that if we do not manually generate grid using np.linspace, the peak values in kde detected is lagged!!\n",
    "\n",
    "https://github.com/tommyod/KDEpy/issues/15"
   ],
   "metadata": {
    "collapsed": false,
    "pycharm": {
     "name": "#%% md\n"
    }
   }
  },
  {
   "cell_type": "code",
   "execution_count": 217,
   "outputs": [],
   "source": [
    "from KDEpy import FFTKDE\n",
    "# Create 2D grid\n",
    "kde_grid_x = np.linspace(data_mir.min()-1, data_mir.max()+1, grid_size_mir)  # \"-1, +1\" is used to ensure range\n",
    "kde_grid_y = np.linspace(data_mir.min()-1, data_mir.max()+1, grid_size_mir)\n",
    "kde_grid = np.stack(np.meshgrid(kde_grid_x, kde_grid_y), -1).reshape(-1, 2)\n",
    "kde_grid[:, [0, 1]] = kde_grid[:, [1, 0]] # Swap indices"
   ],
   "metadata": {
    "collapsed": false,
    "pycharm": {
     "name": "#%%\n"
    }
   }
  },
  {
   "cell_type": "code",
   "execution_count": 218,
   "outputs": [],
   "source": [
    "fit = FFTKDE().fit(data_mir)\n",
    "z_kde = fit.evaluate(kde_grid)\n",
    "z_kde_grid = z_kde.reshape(grid_size_mir, grid_size_mir).T\n"
   ],
   "metadata": {
    "collapsed": false,
    "pycharm": {
     "name": "#%%\n"
    }
   }
  },
  {
   "cell_type": "code",
   "execution_count": 219,
   "outputs": [],
   "source": [
    "# xff_mir, yff_mir = np.unique(xy_mir[:, 0]), np.unique(xy_mir[:, 1])\n",
    "# zffr_mir = z_kde_mir.reshape(grid_size_mir, grid_size_mir).T\n"
   ],
   "metadata": {
    "collapsed": false,
    "pycharm": {
     "name": "#%%\n"
    }
   }
  },
  {
   "cell_type": "code",
   "execution_count": 220,
   "outputs": [],
   "source": [
    "\n",
    "plt.figure()\n",
    "N = 8  # Number of contours\n",
    "plt.title('contours of mirrored kde')\n",
    "plt.contour(kde_grid_x, kde_grid_y, z_kde_grid, N, linewidths=0.8, colors=\"k\")\n",
    "plt.contourf(kde_grid_x, kde_grid_y, z_kde_grid, N, cmap=\"PuBu\")\n",
    "plt.plot(data[:, 0], data[:, 1], \"ok\", ms=2)\n",
    "# plt.gca().invert_yaxis()\n",
    "# plt.yticks([])\n",
    "# plt.xticks([])\n",
    "plt.show()"
   ],
   "metadata": {
    "collapsed": false,
    "pycharm": {
     "name": "#%%\n"
    }
   }
  },
  {
   "cell_type": "markdown",
   "source": [
    "### MIDDLE PART (NON MIRROR)"
   ],
   "metadata": {
    "collapsed": false,
    "pycharm": {
     "name": "#%% md\n"
    }
   }
  },
  {
   "cell_type": "markdown",
   "source": [
    "#### take out middle part (non mirror)"
   ],
   "metadata": {
    "collapsed": false,
    "pycharm": {
     "name": "#%% md\n"
    }
   }
  },
  {
   "cell_type": "code",
   "execution_count": 221,
   "outputs": [],
   "source": [
    "kde_grid_x_mid = kde_grid_x[grid_size:2 * grid_size]\n",
    "kde_grid_y_mid = kde_grid_y[grid_size:2 * grid_size]\n",
    "z_kde_grid_mid = z_kde_grid[grid_size:2 * grid_size, grid_size:2 * grid_size]"
   ],
   "metadata": {
    "collapsed": false,
    "pycharm": {
     "name": "#%%\n"
    }
   }
  },
  {
   "cell_type": "markdown",
   "source": [
    "#### 3d kde of middle part (non mirror)"
   ],
   "metadata": {
    "collapsed": false,
    "pycharm": {
     "name": "#%% md\n"
    }
   }
  },
  {
   "cell_type": "code",
   "execution_count": 222,
   "outputs": [],
   "source": [
    "fig = plt.figure()\n",
    "ax = plt.axes(projection='3d')\n",
    "# surf = ax.plot_surface(xff, yff, zffr, rstride=1, cstride=1, cmap='coolwarm', edgecolor='none')\n",
    "surf = ax.plot_surface(x_mg, y_mg, z_kde_grid_mid, rstride=1, cstride=1, cmap='coolwarm', edgecolor='none')\n",
    "ax.set_xlabel('x')\n",
    "ax.set_ylabel('y')\n",
    "ax.set_zlabel('PDF')\n",
    "ax.set_title(' 3d kde of middle part (non mirror)')\n",
    "# ax.set_ylim3d( y_mg.max(), y_mg.min(),)\n",
    "ax.set_xlim3d(x_mg.max(), x_mg.min(), )  # to make the axis values order same as 2d plot\n",
    "\n",
    "fig.colorbar(surf, shrink=0.5, aspect=5)  # add color bar indicating the PDF\n",
    "ax.view_init(60, 35)\n",
    "# plt.show()"
   ],
   "metadata": {
    "collapsed": false,
    "pycharm": {
     "name": "#%%\n"
    }
   }
  },
  {
   "cell_type": "markdown",
   "source": [
    "#### peak_local_max of middle part"
   ],
   "metadata": {
    "collapsed": false,
    "pycharm": {
     "name": "#%% md\n"
    }
   }
  },
  {
   "cell_type": "code",
   "execution_count": 223,
   "outputs": [],
   "source": [
    "\n",
    "from skimage.feature import peak_local_max\n",
    "\n",
    "pk_coords_mid = peak_local_max(z_kde_grid_mid, exclude_border=False, threshold_rel=0.3,\n",
    "                               min_distance=round(grid_size*.05))  # coordinate!!  note the ration .3 and min_dsitance 2"
   ],
   "metadata": {
    "collapsed": false,
    "pycharm": {
     "name": "#%%\n"
    }
   }
  },
  {
   "cell_type": "markdown",
   "source": [
    "#### show middle part kde image"
   ],
   "metadata": {
    "collapsed": false,
    "pycharm": {
     "name": "#%% md\n"
    }
   }
  },
  {
   "cell_type": "code",
   "execution_count": 224,
   "outputs": [],
   "source": [
    "plt.figure()\n",
    "plt.title('z_kde_grid_mid')\n",
    "plt.imshow(z_kde_grid_mid)\n",
    "plt.plot(pk_coords_mid[:, 1], pk_coords_mid[:, 0], 'r.')  # note columns' order\n",
    "plt.gca().invert_yaxis()\n",
    "plt.show()"
   ],
   "metadata": {
    "collapsed": false,
    "pycharm": {
     "name": "#%%\n"
    }
   }
  },
  {
   "cell_type": "markdown",
   "source": [
    "### ENTIRE PART"
   ],
   "metadata": {
    "collapsed": false,
    "pycharm": {
     "name": "#%% md\n"
    }
   }
  },
  {
   "cell_type": "markdown",
   "source": [
    "#### do  peaklocalmax for entire mirrored result"
   ],
   "metadata": {
    "collapsed": false,
    "pycharm": {
     "name": "#%% md\n"
    }
   }
  },
  {
   "cell_type": "code",
   "execution_count": 225,
   "outputs": [
    {
     "data": {
      "text/plain": "array([[100, 100],\n       [298, 297],\n       [ 52,   4],\n       [148, 196],\n       [250, 202],\n       [  8,  72],\n       [192, 128],\n       [206, 270],\n       [ 73,  14],\n       [271, 212],\n       [127, 186],\n       [297, 291],\n       [101, 107],\n       [ 99,  93],\n       [ 71,  10],\n       [129, 190],\n       [269, 208],\n       [ 81,  26],\n       [119, 174],\n       [279, 224],\n       [288, 262],\n       [110, 136],\n       [ 90,  64],\n       [ 78,  23],\n       [122, 177],\n       [276, 221],\n       [292, 268],\n       [106, 130],\n       [ 94,  70],\n       [245, 212],\n       [153, 186],\n       [ 47,  14],\n       [ 60,   1],\n       [140, 199],\n       [258, 199],\n       [293, 271],\n       [105, 127],\n       [ 95,  73],\n       [ 20,  60],\n       [180, 140],\n       [ 67,   3],\n       [218, 258],\n       [133, 197],\n       [265, 201],\n       [210, 266],\n       [188, 132],\n       [ 12,  68],\n       [287, 256],\n       [111, 142],\n       [ 89,  58],\n       [244, 221],\n       [154, 177],\n       [288, 249],\n       [ 46,  23],\n       [110, 149],\n       [ 90,  51],\n       [ 45,  26],\n       [155, 174],\n       [243, 224]])"
     },
     "execution_count": 225,
     "metadata": {},
     "output_type": "execute_result"
    }
   ],
   "source": [
    "from skimage.feature import peak_local_max\n",
    "# coordinate!!  note the ratio and distance\n",
    "pk_coords_mir = peak_local_max(z_kde_grid, exclude_border=False, threshold_rel=0.1,\n",
    "                               min_distance=2)\n",
    "# pk_coords_mir = peak_local_max(z_kde_grid, exclude_border=False,)\n",
    "pk_coords_mir"
   ],
   "metadata": {
    "collapsed": false,
    "pycharm": {
     "name": "#%%\n"
    }
   }
  },
  {
   "cell_type": "code",
   "execution_count": 226,
   "outputs": [
    {
     "name": "stdout",
     "output_type": "stream",
     "text": [
      "\n",
      "0 [[100 100]\n",
      " [298 297]\n",
      " [ 52   4]\n",
      " [148 196]\n",
      " [250 202]\n",
      " [  8  72]\n",
      " [192 128]\n",
      " [206 270]\n",
      " [ 73  14]\n",
      " [271 212]\n",
      " [127 186]\n",
      " [ 81  26]\n",
      " [119 174]\n",
      " [279 224]\n",
      " [288 262]\n",
      " [110 136]\n",
      " [ 90  64]\n",
      " [292 268]\n",
      " [106 130]\n",
      " [ 94  70]\n",
      " [245 212]\n",
      " [153 186]\n",
      " [ 47  14]\n",
      " [ 60   1]\n",
      " [140 199]\n",
      " [258 199]\n",
      " [ 20  60]\n",
      " [180 140]\n",
      " [ 67   3]\n",
      " [218 258]\n",
      " [133 197]\n",
      " [265 201]\n",
      " [244 221]\n",
      " [154 177]\n",
      " [288 249]\n",
      " [ 46  23]\n",
      " [110 149]\n",
      " [ 90  51]]\n",
      "[array([100, 100]), array([298, 297]), array([52,  4]), array([148, 196]), array([250, 202]), array([ 8, 72]), array([192, 128]), array([206, 270]), array([73, 14]), array([271, 212]), array([127, 186]), array([81, 26]), array([119, 174]), array([279, 224]), array([288, 262]), array([110, 136]), array([90, 64]), array([292, 268]), array([106, 130]), array([94, 70]), array([245, 212]), array([153, 186]), array([47, 14]), array([60,  1]), array([140, 199]), array([258, 199]), array([20, 60]), array([180, 140]), array([67,  3]), array([218, 258]), array([133, 197]), array([265, 201]), array([244, 221]), array([154, 177]), array([288, 249]), array([46, 23]), array([110, 149]), array([90, 51])]\n",
      "\n"
     ]
    }
   ],
   "source": [
    "def find_peak_repeatedly(data, min_peaks = 3*4, max_peaks = 3*9,threshold_rel=0, min_distance=2):\n",
    "    \"\"\"\n",
    "    To avoid the situation that a very high peak occurred lead to the rest peaks cannot be identified,\n",
    "    hence we repeatedly find peaks by making already identified peaks equal to zero until the `min_peaks` is met.\n",
    "    Besides, the `max_peaks` is also required, if peaks more than `max_peaks` is detected, we only need the former highest\n",
    "    `max_peaks`.\n",
    "\n",
    "    Returns: indices of peaks\n",
    "\n",
    "    \"\"\"\n",
    "    data_cp = np.copy(data)\n",
    "\n",
    "    results = None\n",
    "    n_pks = 0\n",
    "    while n_pks <= min_peaks:\n",
    "        pks =  peak_local_max(data_cp, exclude_border=False, threshold_rel=threshold_rel, min_distance=min_distance)\n",
    "        print(n_pks, pks)\n",
    "        if results is None:\n",
    "            results = pks\n",
    "        else:\n",
    "            results = np.concatenate([results, pks])\n",
    "        n_pks += len(pks)\n",
    "        # results += pks\n",
    "        for p in pks:\n",
    "            data_cp[p[0], p[1]] = 0\n",
    "\n",
    "    if n_pks > max_peaks:\n",
    "        print([coord for coord in results])\n",
    "        pk_vals = np.array([[*coord, data[coord[0], coord[1]]] for coord in results])\n",
    "        # sort by peak val\n",
    "        pk_vals = pk_vals[pk_vals[:, 2].argsort()][::-1]\n",
    "        results = pk_vals[:max_peaks, [0, 1]].astype(int)\n",
    "    return np.array(results)\n",
    "print()\n",
    "pk_coords_mir = find_peak_repeatedly(z_kde_grid, threshold_rel=0.1, min_distance=4)\n",
    "print()"
   ],
   "metadata": {
    "collapsed": false,
    "pycharm": {
     "name": "#%%\n"
    }
   }
  },
  {
   "cell_type": "code",
   "execution_count": 227,
   "outputs": [
    {
     "data": {
      "text/plain": "array([[2.22009910e-16, 2.22061952e-16, 2.22009910e-16, 2.22027258e-16,\n        2.21979553e-16, 2.22037558e-16, 2.22046502e-16, 2.22063850e-16,\n        2.22025360e-16, 2.22053821e-16, 2.22040268e-16, 2.22055447e-16,\n        2.22053279e-16, 2.22044605e-16, 2.22031594e-16, 2.22044605e-16,\n        2.22026173e-16, 2.21996900e-16, 2.22068457e-16, 2.22086889e-16,\n        2.22040268e-16, 2.22046231e-16, 2.22063850e-16, 2.22033221e-16,\n        2.22008826e-16, 2.22023463e-16, 2.22036473e-16, 2.22043250e-16,\n        2.22078486e-16, 2.22055854e-16, 2.22045215e-16, 2.22019262e-16,\n        2.22025708e-16, 2.22040408e-16, 2.22039168e-16, 2.22032318e-16,\n        2.22067278e-16, 2.22027535e-16, 2.22031083e-16, 2.22040670e-16,\n        2.22047078e-16, 2.22071100e-16, 2.22046502e-16, 2.22040268e-16,\n        2.22018584e-16, 2.22035931e-16, 2.22035931e-16, 2.22072794e-16,\n        2.22066289e-16, 2.22053279e-16, 2.22018313e-16, 2.22009436e-16,\n        2.22039878e-16, 2.22024971e-16, 2.22008977e-16, 2.22014876e-16,\n        2.22053356e-16, 2.22030858e-16, 2.22036810e-16, 2.22030705e-16,\n        2.22038981e-16, 2.22043521e-16, 2.22037016e-16, 2.22022921e-16,\n        2.22053279e-16, 2.22058700e-16, 2.22042979e-16, 2.22042165e-16,\n        2.22060868e-16, 2.22051110e-16, 2.22040268e-16, 1.34882020e-12,\n        6.57990532e-11, 5.07857093e-09, 1.55129446e-07, 2.14057233e-06,\n        1.42068236e-05, 6.13404309e-05, 1.79141145e-04, 2.56561154e-04,\n        1.46623024e-04, 3.12068796e-05, 2.42105348e-06, 6.78997963e-08,\n        2.22057615e-16, 2.22074963e-16, 2.22070626e-16, 2.22064121e-16,\n        2.22074963e-16, 2.22042437e-16, 2.22050026e-16, 2.22039726e-16,\n        2.22041894e-16, 2.22027393e-16, 2.22057751e-16, 2.22020278e-16,\n        2.22020583e-16, 2.22024615e-16, 2.22015603e-16, 2.22058971e-16,\n        2.22004964e-16, 2.22074488e-16, 2.22056861e-16, 2.22061787e-16,\n        2.22068206e-16, 2.22049452e-16, 2.22052129e-16, 2.22035188e-16,\n        2.22061938e-16, 2.22052804e-16, 2.22043664e-16, 2.22069458e-16,\n        2.22059381e-16, 2.22054609e-16, 2.22066993e-16, 2.22083452e-16,\n        2.22047527e-16, 2.22045583e-16, 2.22054324e-16, 2.22091331e-16,\n        2.22095374e-16, 2.22079421e-16, 2.22067602e-16, 2.22089735e-16,\n        2.22044605e-16, 2.22044605e-16, 2.22027258e-16, 2.22079299e-16,\n        2.22079299e-16, 2.22027258e-16, 2.22018584e-16, 2.22029426e-16,\n        2.22048942e-16, 2.22040539e-16, 2.22039997e-16, 2.22047315e-16,\n        2.22021837e-16, 2.22018584e-16, 2.22022921e-16, 2.21983890e-16,\n        2.22033763e-16, 2.22034847e-16, 2.22033763e-16, 2.22016416e-16,\n        2.22016416e-16, 2.22023463e-16, 2.22025089e-16, 2.22017500e-16,\n        2.22019126e-16, 2.22025631e-16, 2.22050026e-16, 2.22047858e-16,\n        2.22056531e-16, 2.22051110e-16, 2.22093394e-16, 2.22092310e-16,\n        2.22044605e-16, 2.22077131e-16, 2.22059784e-16, 2.22025089e-16,\n        2.22064121e-16, 2.22082552e-16, 2.22059784e-16, 2.22040268e-16,\n        2.22070626e-16, 2.22044605e-16, 2.22048942e-16, 2.22009910e-16,\n        2.22031594e-16, 2.22033763e-16, 2.22059242e-16, 2.22043046e-16,\n        2.22044436e-16, 2.22058445e-16, 2.22037661e-16, 2.22062487e-16,\n        2.22036209e-16, 2.22052177e-16, 2.22062249e-16, 2.22036033e-16,\n        2.22055311e-16, 2.22033221e-16, 2.22059784e-16, 2.22051110e-16,\n        2.22074963e-16, 2.22087973e-16, 2.22087973e-16, 2.22096647e-16,\n        2.22027258e-16, 2.22079299e-16, 2.22087973e-16, 2.22070626e-16,\n        2.22044605e-16, 2.22048942e-16, 2.22033221e-16, 2.22041759e-16,\n        2.22086482e-16, 2.22061952e-16, 2.22009910e-16, 2.22061952e-16,\n        2.22096647e-16, 2.22044605e-16, 2.22045147e-16, 2.22039828e-16,\n        2.22021496e-16, 2.22002228e-16, 2.21996341e-16, 2.22025902e-16,\n        2.22035118e-16, 2.22050026e-16, 2.22028342e-16, 2.22077131e-16,\n        2.22057615e-16, 2.22079299e-16, 2.22031594e-16, 2.22027258e-16,\n        2.22044605e-16, 2.22012079e-16, 2.22042437e-16, 2.22032679e-16,\n        2.22053685e-16, 2.22057463e-16, 2.22057573e-16, 2.22035177e-16,\n        2.22057878e-16, 2.22034153e-16, 2.22053346e-16, 2.22060597e-16,\n        2.22071168e-16, 2.22044605e-16, 2.22022379e-16, 2.22011537e-16,\n        2.22043792e-16, 2.22021837e-16, 2.22067983e-16, 2.22038049e-16,\n        2.22032662e-16, 2.22066831e-16, 2.22040268e-16, 2.22044605e-16,\n        2.22053279e-16, 2.22074963e-16, 2.22033763e-16, 2.22087973e-16,\n        2.22061952e-16, 2.22070626e-16, 2.22074963e-16, 2.22096647e-16,\n        2.22044605e-16, 2.22048942e-16, 2.22054363e-16, 2.22087973e-16,\n        2.22057615e-16, 2.22048942e-16, 2.22063036e-16, 2.22070626e-16,\n        2.22009910e-16, 2.22025089e-16, 2.22016416e-16, 2.22059784e-16,\n        2.22027258e-16, 2.22048942e-16, 2.22070626e-16, 2.22044605e-16,\n        2.22035931e-16, 2.22027258e-16, 2.22066289e-16, 2.22020752e-16,\n        2.22064121e-16, 2.22003405e-16, 2.22042437e-16, 2.22026173e-16,\n        2.22018855e-16, 2.22001067e-16, 2.22009508e-16, 2.21992896e-16,\n        2.21987793e-16, 2.22030652e-16, 2.22020600e-16, 2.22027330e-16,\n        2.22030445e-16, 2.22048986e-16, 2.22051367e-16, 2.22021767e-16,\n        2.22038231e-16, 2.22043532e-16, 2.22043652e-16, 2.22030988e-16,\n        2.22054150e-16, 2.22037767e-16, 2.22069910e-16, 2.21981835e-16,\n        2.22036102e-16, 2.22029986e-16, 2.22064003e-16, 2.22022422e-16,\n        2.22007491e-16, 2.22039469e-16, 2.21987664e-16, 2.22006099e-16],\n       [2.22009910e-16, 2.22061952e-16, 2.22009910e-16, 2.22027258e-16,\n        2.21979553e-16, 2.22037558e-16, 2.22046502e-16, 2.22063850e-16,\n        2.22025360e-16, 2.22053821e-16, 2.22040268e-16, 2.22055447e-16,\n        2.22053279e-16, 2.22044605e-16, 2.22031594e-16, 2.22044605e-16,\n        2.22026173e-16, 2.21996900e-16, 2.22068457e-16, 2.22086889e-16,\n        2.22040268e-16, 2.22046231e-16, 2.22063850e-16, 2.22033221e-16,\n        2.22008826e-16, 2.22023463e-16, 2.22036473e-16, 2.22043250e-16,\n        2.22078486e-16, 2.22055854e-16, 2.22045215e-16, 2.22019262e-16,\n        2.22025708e-16, 2.22040408e-16, 2.22039168e-16, 2.22032318e-16,\n        2.22067278e-16, 2.22027535e-16, 2.22031083e-16, 2.22040670e-16,\n        2.22047078e-16, 2.22071100e-16, 2.22046502e-16, 2.22040268e-16,\n        2.22018584e-16, 2.22035931e-16, 2.22035931e-16, 2.22072794e-16,\n        2.22066289e-16, 2.22053279e-16, 2.22018313e-16, 2.22009436e-16,\n        2.22039878e-16, 2.22024971e-16, 2.22008977e-16, 2.22014876e-16,\n        2.22053356e-16, 2.22030858e-16, 2.22036810e-16, 2.22030705e-16,\n        2.22038981e-16, 2.22043521e-16, 2.22037016e-16, 2.22022921e-16,\n        2.22053279e-16, 2.22058700e-16, 2.22042979e-16, 2.22042165e-16,\n        2.22060868e-16, 2.22051110e-16, 2.22040268e-16, 1.34882020e-12,\n        6.57990532e-11, 5.07857093e-09, 1.55129446e-07, 2.14057233e-06,\n        1.42068236e-05, 6.13404309e-05, 1.79141145e-04, 2.56561154e-04,\n        1.46623024e-04, 3.12068796e-05, 2.42105348e-06, 6.78997963e-08,\n        2.22057615e-16, 2.22074963e-16, 2.22070626e-16, 2.22064121e-16,\n        2.22074963e-16, 2.22042437e-16, 2.22050026e-16, 2.22039726e-16,\n        2.22041894e-16, 2.22027393e-16, 2.22057751e-16, 2.22020278e-16,\n        2.22020583e-16, 2.22024615e-16, 2.22015603e-16, 2.22058971e-16,\n        2.22004964e-16, 2.22074488e-16, 2.22056861e-16, 2.22061787e-16,\n        2.22068206e-16, 2.22049452e-16, 2.22052129e-16, 2.22035188e-16,\n        2.22061938e-16, 2.22052804e-16, 2.22043664e-16, 2.22069458e-16,\n        2.22059381e-16, 2.22054609e-16, 2.22066993e-16, 2.22083452e-16,\n        2.22047527e-16, 2.22045583e-16, 2.22054324e-16, 2.22091331e-16,\n        2.22095374e-16, 2.22079421e-16, 2.22067602e-16, 2.22089735e-16,\n        2.22044605e-16, 2.22044605e-16, 2.22027258e-16, 2.22079299e-16,\n        2.22079299e-16, 2.22027258e-16, 2.22018584e-16, 2.22029426e-16,\n        2.22048942e-16, 2.22040539e-16, 2.22039997e-16, 2.22047315e-16,\n        2.22021837e-16, 2.22018584e-16, 2.22022921e-16, 2.21983890e-16,\n        2.22033763e-16, 2.22034847e-16, 2.22033763e-16, 2.22016416e-16,\n        2.22016416e-16, 2.22023463e-16, 2.22025089e-16, 2.22017500e-16,\n        2.22019126e-16, 2.22025631e-16, 2.22050026e-16, 2.22047858e-16,\n        2.22056531e-16, 2.22051110e-16, 2.22093394e-16, 2.22092310e-16,\n        2.22044605e-16, 2.22077131e-16, 2.22059784e-16, 2.22025089e-16,\n        2.22064121e-16, 2.22082552e-16, 2.22059784e-16, 2.22040268e-16,\n        2.22070626e-16, 2.22044605e-16, 2.22048942e-16, 2.22009910e-16,\n        2.22031594e-16, 2.22033763e-16, 2.22059242e-16, 2.22043046e-16,\n        2.22044436e-16, 2.22058445e-16, 2.22037661e-16, 2.22062487e-16,\n        2.22036209e-16, 2.22052177e-16, 2.22062249e-16, 2.22036033e-16,\n        2.22055311e-16, 2.22033221e-16, 2.22059784e-16, 2.22051110e-16,\n        2.22074963e-16, 2.22087973e-16, 2.22087973e-16, 2.22096647e-16,\n        2.22027258e-16, 2.22079299e-16, 2.22087973e-16, 2.22070626e-16,\n        2.22044605e-16, 2.22048942e-16, 2.22033221e-16, 2.22041759e-16,\n        2.22086482e-16, 2.22061952e-16, 2.22009910e-16, 2.22061952e-16,\n        2.22096647e-16, 2.22044605e-16, 2.22045147e-16, 2.22039828e-16,\n        2.22021496e-16, 2.22002228e-16, 2.21996341e-16, 2.22025902e-16,\n        2.22035118e-16, 2.22050026e-16, 2.22028342e-16, 2.22077131e-16,\n        2.22057615e-16, 2.22079299e-16, 2.22031594e-16, 2.22027258e-16,\n        2.22044605e-16, 2.22012079e-16, 2.22042437e-16, 2.22032679e-16,\n        2.22053685e-16, 2.22057463e-16, 2.22057573e-16, 2.22035177e-16,\n        2.22057878e-16, 2.22034153e-16, 2.22053346e-16, 2.22060597e-16,\n        2.22071168e-16, 2.22044605e-16, 2.22022379e-16, 2.22011537e-16,\n        2.22043792e-16, 2.22021837e-16, 2.22067983e-16, 2.22038049e-16,\n        2.22032662e-16, 2.22066831e-16, 2.22040268e-16, 2.22044605e-16,\n        2.22053279e-16, 2.22074963e-16, 2.22033763e-16, 2.22087973e-16,\n        2.22061952e-16, 2.22070626e-16, 2.22074963e-16, 2.22096647e-16,\n        2.22044605e-16, 2.22048942e-16, 2.22054363e-16, 2.22087973e-16,\n        2.22057615e-16, 2.22048942e-16, 2.22063036e-16, 2.22070626e-16,\n        2.22009910e-16, 2.22025089e-16, 2.22016416e-16, 2.22059784e-16,\n        2.22027258e-16, 2.22048942e-16, 2.22070626e-16, 2.22044605e-16,\n        2.22035931e-16, 2.22027258e-16, 2.22066289e-16, 2.22020752e-16,\n        2.22064121e-16, 2.22003405e-16, 2.22042437e-16, 2.22026173e-16,\n        2.22018855e-16, 2.22001067e-16, 2.22009508e-16, 2.21992896e-16,\n        2.21987793e-16, 2.22030652e-16, 2.22020600e-16, 2.22027330e-16,\n        2.22030445e-16, 2.22048986e-16, 2.22051367e-16, 2.22021767e-16,\n        2.22038231e-16, 2.22043532e-16, 2.22043652e-16, 2.22030988e-16,\n        2.22054150e-16, 2.22037767e-16, 2.22069910e-16, 2.21981835e-16,\n        2.22036102e-16, 2.22029986e-16, 2.22064003e-16, 2.22022422e-16,\n        2.22007491e-16, 2.22039469e-16, 2.21987664e-16, 2.22006099e-16]])"
     },
     "execution_count": 227,
     "metadata": {},
     "output_type": "execute_result"
    }
   ],
   "source": [
    "z_kde_grid[[0,0]]"
   ],
   "metadata": {
    "collapsed": false,
    "pycharm": {
     "name": "#%%\n"
    }
   }
  },
  {
   "cell_type": "markdown",
   "source": [
    "#### histogram of kde 2d"
   ],
   "metadata": {
    "collapsed": false,
    "pycharm": {
     "name": "#%% md\n"
    }
   }
  },
  {
   "cell_type": "code",
   "execution_count": 228,
   "outputs": [],
   "source": [
    "plt.figure()\n",
    "plt.hist(z_kde_grid.reshape(-1), bins=100)\n",
    "plt.show()"
   ],
   "metadata": {
    "collapsed": false,
    "pycharm": {
     "name": "#%%\n"
    }
   }
  },
  {
   "cell_type": "markdown",
   "source": [
    "#### show entire kde image"
   ],
   "metadata": {
    "collapsed": false,
    "pycharm": {
     "name": "#%% md\n"
    }
   }
  },
  {
   "cell_type": "code",
   "execution_count": 229,
   "outputs": [],
   "source": [
    "plt.figure()\n",
    "plt.title('z_kde_grid')\n",
    "plt.imshow(z_kde_grid)\n",
    "plt.plot(pk_coords_mir[:, 1], pk_coords_mir[:, 0], 'r.')  # note columns' order\n",
    "plt.gca().invert_yaxis()\n",
    "plt.show()"
   ],
   "metadata": {
    "collapsed": false,
    "pycharm": {
     "name": "#%%\n"
    }
   }
  },
  {
   "cell_type": "markdown",
   "source": [
    "### get peak index"
   ],
   "metadata": {
    "collapsed": false,
    "pycharm": {
     "name": "#%% md\n"
    }
   }
  },
  {
   "cell_type": "code",
   "execution_count": 230,
   "outputs": [
    {
     "data": {
      "text/plain": "array([[100, 100],\n       [297, 298],\n       [  4,  52],\n       [196, 148],\n       [202, 250],\n       [ 72,   8],\n       [128, 192],\n       [270, 206],\n       [ 14,  73],\n       [212, 271],\n       [186, 127],\n       [ 26,  81],\n       [174, 119],\n       [224, 279],\n       [262, 288],\n       [136, 110],\n       [ 64,  90],\n       [268, 292],\n       [130, 106],\n       [ 70,  94],\n       [212, 245],\n       [186, 153],\n       [ 14,  47],\n       [  1,  60],\n       [199, 140],\n       [199, 258],\n       [ 60,  20]])"
     },
     "execution_count": 230,
     "metadata": {},
     "output_type": "execute_result"
    }
   ],
   "source": [
    "pk_coords_mir_correct = np.vstack(\n",
    "    [pk_coords_mir[:, 1], pk_coords_mir[:, 0]]).T  # make columns order correct to calculate distance later\n",
    "pk_coords_mir_correct"
   ],
   "metadata": {
    "collapsed": false,
    "pycharm": {
     "name": "#%%\n"
    }
   }
  },
  {
   "cell_type": "markdown",
   "source": [
    "find the close one to pk_coord in data"
   ],
   "metadata": {
    "collapsed": false,
    "pycharm": {
     "name": "#%% md\n"
    }
   }
  },
  {
   "cell_type": "code",
   "execution_count": 231,
   "outputs": [
    {
     "name": "stdout",
     "output_type": "stream",
     "text": [
      "[array([100, 100]), array([196, 148]), array([128, 192]), array([186, 127]), array([174, 119]), array([136, 110]), array([130, 106]), array([186, 153]), array([199, 140])]\n"
     ]
    },
    {
     "data": {
      "text/plain": "array([[ 0,  0],\n       [96, 48],\n       [28, 92],\n       [86, 27],\n       [74, 19],\n       [36, 10],\n       [30,  6],\n       [86, 53],\n       [99, 40]])"
     },
     "execution_count": 231,
     "metadata": {},
     "output_type": "execute_result"
    }
   ],
   "source": [
    "pk_coords_unmir_correct = []\n",
    "for pk in pk_coords_mir_correct:\n",
    "    x, y = pk[0], pk[1]\n",
    "    if x in range(grid_size, 2 * grid_size) and y in range(grid_size, 2 * grid_size):\n",
    "        pk_coords_unmir_correct.append(pk)\n",
    "print(pk_coords_unmir_correct)\n",
    "pk_coords_unmir_correct = np.array(pk_coords_unmir_correct) - grid_size\n",
    "pk_coords_unmir_correct"
   ],
   "metadata": {
    "collapsed": false,
    "pycharm": {
     "name": "#%%\n"
    }
   }
  },
  {
   "cell_type": "code",
   "execution_count": 232,
   "outputs": [
    {
     "name": "stdout",
     "output_type": "stream",
     "text": [
      "pk_coord, min_dist_point, min_dist, min_dist_point_idx\n",
      "[0 0] [0. 0.] 0.0 0\n",
      "[96 48] [96.40872355 48.70072033] 0.8112113868554266 80\n",
      "[28 92] [28.35095076 92.47029287] 0.5868064572290991 121\n",
      "[86 27] [85.56235498 26.91277286] 0.44625300014265945 60\n",
      "[74 19] [74.60063581 19.04992882] 0.6027074480308069 51\n",
      "[36 10] [36.39979347 10.1001491 ] 0.41214640723998386 29\n",
      "[30  6] [30.32308851  5.81893732] 0.3703645190332504 25\n",
      "[86 53] [85.52988086 53.73529361] 0.8727363234704144 88\n",
      "[99 40] [99.98362606 39.68849734] 1.03177232429288 73\n",
      "[0, 80, 121, 60, 51, 29, 25, 88, 73]\n"
     ]
    }
   ],
   "source": [
    "from scipy.spatial import distance\n",
    "\n",
    "pk_point_idx = []\n",
    "print('pk_coord, min_dist_point, min_dist, min_dist_point_idx')\n",
    "\n",
    "for pk_coord in pk_coords_unmir_correct:\n",
    "    min_dist = math.inf\n",
    "    min_dist_point_idx = -1  # idx\n",
    "    for i, point in enumerate(data):\n",
    "        # if i not in range(grid_size, 2*grid_size):\n",
    "        #     continue\n",
    "        dist = distance.euclidean(point, pk_coord)\n",
    "        if dist < min_dist:\n",
    "            min_dist = dist\n",
    "            min_dist_point = point\n",
    "            min_dist_point_idx = i\n",
    "    print(pk_coord, min_dist_point, min_dist, min_dist_point_idx)\n",
    "    pk_point_idx.append(min_dist_point_idx)\n",
    "print(pk_point_idx)"
   ],
   "metadata": {
    "collapsed": false,
    "pycharm": {
     "name": "#%%\n"
    }
   }
  },
  {
   "cell_type": "code",
   "execution_count": 233,
   "outputs": [],
   "source": [
    "plt.figure()\n",
    "# plt.scatter(x, y)\n",
    "plt.plot(x_s, y_s, color='red', marker='o', markerfacecolor='white',\n",
    "         markeredgecolor='#1f77b4', markeredgewidth=1.5)\n",
    "plt.xlabel(\"Latitude\")\n",
    "plt.ylabel(\"Longitude\")\n",
    "plt.ticklabel_format(style='plain', axis='x', useOffset=False)\n",
    "plt.scatter(x_s[pk_point_idx], y_s[pk_point_idx], c='red', zorder=100)\n",
    "plt.show()"
   ],
   "metadata": {
    "collapsed": false,
    "pycharm": {
     "name": "#%%\n"
    }
   }
  }
 ],
 "metadata": {
  "kernelspec": {
   "display_name": "Python 3",
   "language": "python",
   "name": "python3"
  },
  "language_info": {
   "codemirror_mode": {
    "name": "ipython",
    "version": 2
   },
   "file_extension": ".py",
   "mimetype": "text/x-python",
   "name": "python",
   "nbconvert_exporter": "python",
   "pygments_lexer": "ipython2",
   "version": "2.7.6"
  }
 },
 "nbformat": 4,
 "nbformat_minor": 0
}