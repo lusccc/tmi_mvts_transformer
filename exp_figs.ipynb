{
 "cells": [
  {
   "cell_type": "code",
   "execution_count": 1,
   "metadata": {
    "collapsed": true,
    "pycharm": {
     "name": "#%%\n"
    }
   },
   "outputs": [],
   "source": [
    "import numpy as np\n",
    "import matplotlib.pyplot as plt\n",
    "%matplotlib qt5"
   ]
  },
  {
   "cell_type": "markdown",
   "source": [
    "## geolife"
   ],
   "metadata": {
    "collapsed": false,
    "pycharm": {
     "name": "#%% md\n"
    }
   }
  },
  {
   "cell_type": "markdown",
   "source": [
    "### compare"
   ],
   "metadata": {
    "collapsed": false,
    "pycharm": {
     "name": "#%% md\n"
    }
   }
  },
  {
   "cell_type": "code",
   "execution_count": 2,
   "outputs": [
    {
     "ename": "AttributeError",
     "evalue": "'BarContainer' object has no attribute 'get_color'",
     "output_type": "error",
     "traceback": [
      "\u001B[0;31m---------------------------------------------------------------------------\u001B[0m",
      "\u001B[0;31mAttributeError\u001B[0m                            Traceback (most recent call last)",
      "Input \u001B[0;32mIn [2]\u001B[0m, in \u001B[0;36m<module>\u001B[0;34m\u001B[0m\n\u001B[1;32m     21\u001B[0m ax2\u001B[38;5;241m.\u001B[39mset_ylabel(\u001B[38;5;124m'\u001B[39m\u001B[38;5;124mELA\u001B[39m\u001B[38;5;124m'\u001B[39m)\n\u001B[1;32m     22\u001B[0m \u001B[38;5;66;03m# 双Y轴标签颜色设置\u001B[39;00m\n\u001B[0;32m---> 23\u001B[0m ax1\u001B[38;5;241m.\u001B[39myaxis\u001B[38;5;241m.\u001B[39mlabel\u001B[38;5;241m.\u001B[39mset_color(\u001B[43mrects1\u001B[49m\u001B[38;5;241;43m.\u001B[39;49m\u001B[43mget_color\u001B[49m())\n\u001B[1;32m     24\u001B[0m ax2\u001B[38;5;241m.\u001B[39myaxis\u001B[38;5;241m.\u001B[39mlabel\u001B[38;5;241m.\u001B[39mset_color(rects2\u001B[38;5;241m.\u001B[39mget_color())\n\u001B[1;32m     25\u001B[0m \u001B[38;5;66;03m# 双Y轴刻度颜色设置\u001B[39;00m\n",
      "\u001B[0;31mAttributeError\u001B[0m: 'BarContainer' object has no attribute 'get_color'"
     ]
    }
   ],
   "source": [
    "models = ['Ours', 'RF', 'KNN', 'MLP', 'DT', 'SVM', 'CNN', 'LSTM']\n",
    "clean_acc = [84.7, 56.6, 38.8, 42.5, 44.4, 41.1, 82.8, 79.8]\n",
    "noise_acc = [84.2, 60.2, 46.4, 48.2, 48.7, 48.0, 81.9, 79.8]\n",
    "ela = [0.187, 0.702, 1.380, 1.221, 1.155, 1.265, 0.218, 0.253]\n",
    "colors = ['royalblue', 'tomato', 'orange']\n",
    "width = 0.35  # the width of the bars\n",
    "x = np.arange(len(models))  # the label locations\n",
    "\n",
    "fig, ax1 = plt.subplots()\n",
    "rects1 = ax1.bar(x - width/2, clean_acc, width, label='Clean Data')\n",
    "rects2 = ax1.bar(x + width/2, noise_acc, width, label='Noisy Data')\n",
    "# Add some text for labels, title and custom x-axis tick labels, etc.\n",
    "ax1.set_ylabel('Accuracy')\n",
    "ax1.set_xticks(x, models)\n",
    "ax1.legend()\n",
    "ax1.bar_label(rects1, padding=3)\n",
    "ax1.bar_label(rects2, padding=3)\n",
    "\n",
    "ax2 = ax1.twinx()\n",
    "ax2.bar(x + width*1.5, ela, width, label='Noisy Data')\n",
    "ax2.set_ylabel('ELA')\n",
    "# 双Y轴标签颜色设置\n",
    "ax1.yaxis.label.set_color(rects1.get_color())\n",
    "ax2.yaxis.label.set_color(rects2.get_color())\n",
    "# 双Y轴刻度颜色设置\n",
    "ax1.tick_params(axis = 'y', colors = rects1.get_color())\n",
    "ax2.tick_params(axis = 'y', colors = rects2.get_color())\n",
    "plt.show()\n"
   ],
   "metadata": {
    "collapsed": false,
    "pycharm": {
     "name": "#%%\n"
    }
   }
  },
  {
   "cell_type": "code",
   "execution_count": null,
   "outputs": [],
   "source": [],
   "metadata": {
    "collapsed": false,
    "pycharm": {
     "name": "#%%\n"
    }
   }
  }
 ],
 "metadata": {
  "kernelspec": {
   "display_name": "Python 3",
   "language": "python",
   "name": "python3"
  },
  "language_info": {
   "codemirror_mode": {
    "name": "ipython",
    "version": 2
   },
   "file_extension": ".py",
   "mimetype": "text/x-python",
   "name": "python",
   "nbconvert_exporter": "python",
   "pygments_lexer": "ipython2",
   "version": "2.7.6"
  }
 },
 "nbformat": 4,
 "nbformat_minor": 0
}